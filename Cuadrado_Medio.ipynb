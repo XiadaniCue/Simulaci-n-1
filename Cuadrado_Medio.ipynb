{
  "nbformat": 4,
  "nbformat_minor": 0,
  "metadata": {
    "colab": {
      "provenance": [],
      "authorship_tag": "ABX9TyOuPiHvjwGH+qqzuKSANCGg",
      "include_colab_link": true
    },
    "kernelspec": {
      "name": "python3",
      "display_name": "Python 3"
    },
    "language_info": {
      "name": "python"
    }
  },
  "cells": [
    {
      "cell_type": "markdown",
      "metadata": {
        "id": "view-in-github",
        "colab_type": "text"
      },
      "source": [
        "<a href=\"https://colab.research.google.com/github/XiadaniCue/Simulaci-n-1/blob/main/Cuadrado_Medio.ipynb\" target=\"_parent\"><img src=\"https://colab.research.google.com/assets/colab-badge.svg\" alt=\"Open In Colab\"/></a>"
      ]
    },
    {
      "cell_type": "markdown",
      "source": [
        "#Método del Cuadrado Medio\n",
        "\n",
        "Xiadani Paola Reyes Cuellar"
      ],
      "metadata": {
        "id": "NOldvYfm5sS8"
      }
    },
    {
      "cell_type": "code",
      "execution_count": 9,
      "metadata": {
        "id": "1bkNRHAEXqCb",
        "outputId": "8f7076f5-f842-4511-8fae-0d4bba9802bc",
        "colab": {
          "base_uri": "https://localhost:8080/"
        }
      },
      "outputs": [
        {
          "output_type": "stream",
          "name": "stdout",
          "text": [
            "La primera semilla es:  2124\n",
            "El primer cuadrado de la semilla es: 4511376\n",
            "1 .La nueva semilla es:  5113 \n",
            "  Elevada al cuadrado es:  26142769 \n",
            "\n",
            "2 .La nueva semilla es: 1427 \n",
            "  Elevada al cuadrado es:  2036329 \n",
            "\n",
            "\n",
            "3 .La nueva semilla es:  363 \n",
            "  Elevada al cuadrado es:  131769 \n",
            "\n",
            "4 .La nueva semilla es:  3176 \n",
            "  Elevada al cuadrado es:  10086976 \n",
            "\n",
            "5 .La nueva semilla es: 869 \n",
            "  Elevada al cuadrado es:  755161 \n",
            "\n",
            "\n",
            "6 .La nueva semilla es:  5516 \n",
            "  Elevada al cuadrado es:  30426256 \n",
            "\n",
            "7 .La nueva semilla es: 4262 \n",
            "  Elevada al cuadrado es:  18164644 \n",
            "\n",
            "\n",
            "8 .La nueva semilla es: 1646 \n",
            "  Elevada al cuadrado es:  2709316 \n",
            "\n",
            "\n",
            "9 .La nueva semilla es:  7093 \n",
            "  Elevada al cuadrado es:  50310649 \n",
            "\n",
            "10 .La nueva semilla es: 3106 \n",
            "  Elevada al cuadrado es:  9647236 \n",
            "\n",
            "\n"
          ]
        }
      ],
      "source": [
        "#Este método es para generar números aleatorios con una semilla de 4 digitos\n",
        "\n",
        "semilla=2124\n",
        "cuadrado=semilla**2\n",
        "print(\"La primera semilla es: \",semilla)\n",
        "print(\"El primer cuadrado de la semilla es:\",cuadrado)\n",
        "#print(type(cuadrado))\n",
        "num=list(str(cuadrado))\n",
        "#print(num)\n",
        "\n",
        "\n",
        "for i in range(0, 10):\n",
        "    if len(num)==8:\n",
        "      num1=(num[2]+num[3]+num[4]+num[5])\n",
        "      #print(num1)\n",
        "      semilla=int(num1)\n",
        "      cuadrado=semilla**2\n",
        "      print(i+1,\".\"\"La nueva semilla es:\",semilla,\"\\n  Elevada al cuadrado es: \",cuadrado,'\\n')\n",
        "      print()\n",
        "      i=i+1;\n",
        "      num=list(str(cuadrado))\n",
        "    else:\n",
        "      num0=[0]+num\n",
        "      #print(num0)\n",
        "      num1=(num0[2]+num0[3]+num0[4]+num0[5])\n",
        "      #print(num1)\n",
        "      semilla=int(num1)\n",
        "      cuadrado=semilla**2\n",
        "      print(i+1,\".La nueva semilla es: \",semilla,\"\\n  Elevada al cuadrado es: \",cuadrado,'\\n')\n",
        "      num=list(str(cuadrado))\n",
        "      i=i+1;\n"
      ]
    },
    {
      "cell_type": "code",
      "source": [],
      "metadata": {
        "id": "w1EOa-Vk6MH9"
      },
      "execution_count": null,
      "outputs": []
    }
  ]
}