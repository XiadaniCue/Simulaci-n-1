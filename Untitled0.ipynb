{
  "nbformat": 4,
  "nbformat_minor": 0,
  "metadata": {
    "colab": {
      "provenance": [],
      "authorship_tag": "ABX9TyOdbSIuPDdtHLVsGCyfjmaH",
      "include_colab_link": true
    },
    "kernelspec": {
      "name": "python3",
      "display_name": "Python 3"
    },
    "language_info": {
      "name": "python"
    }
  },
  "cells": [
    {
      "cell_type": "markdown",
      "metadata": {
        "id": "view-in-github",
        "colab_type": "text"
      },
      "source": [
        "<a href=\"https://colab.research.google.com/github/XiadaniCue/Simulaci-n-1/blob/main/Untitled0.ipynb\" target=\"_parent\"><img src=\"https://colab.research.google.com/assets/colab-badge.svg\" alt=\"Open In Colab\"/></a>"
      ]
    },
    {
      "cell_type": "code",
      "execution_count": 1,
      "metadata": {
        "colab": {
          "base_uri": "https://localhost:8080/"
        },
        "id": "1bkNRHAEXqCb",
        "outputId": "fe457a3c-95f7-4009-a1a9-b5a4600cdc3f"
      },
      "outputs": [
        {
          "output_type": "stream",
          "name": "stdout",
          "text": [
            "La primera semilla es:  1234\n",
            "El primer cuadrado es: 1522756\n",
            "1 .La nueva semilla es:  5227 .Y elevada al cuadrado es:  27321529\n",
            "\n",
            "2 .La nueva semilla es: 3215 .Y elevada al cuadrado es:  10336225\n",
            "\n",
            "3 .La nueva semilla es: 3362 .Y elevada al cuadrado es:  11303044\n",
            "\n",
            "4 .La nueva semilla es: 3030 .Y elevada al cuadrado es:  9180900\n",
            "\n",
            "5 .La nueva semilla es:  1809 .Y elevada al cuadrado es:  3272481\n",
            "\n",
            "6 .La nueva semilla es:  2724 .Y elevada al cuadrado es:  7420176\n",
            "\n",
            "7 .La nueva semilla es:  4201 .Y elevada al cuadrado es:  17648401\n",
            "\n",
            "8 .La nueva semilla es: 6484 .Y elevada al cuadrado es:  42042256\n",
            "\n",
            "9 .La nueva semilla es: 422 .Y elevada al cuadrado es:  178084\n",
            "\n",
            "10 .La nueva semilla es:  7808 .Y elevada al cuadrado es:  60964864\n",
            "\n"
          ]
        }
      ],
      "source": [
        "nsemilla=1234\n",
        "cuadrado=nsemilla**2\n",
        "print(\"La primera semilla es: \",nsemilla)\n",
        "print(\"El primer cuadrado es:\",cuadrado)\n",
        "#print(type(cuadrado))\n",
        "num=list(str(cuadrado))\n",
        "#print(num)\n",
        "\n",
        "\n",
        "for i in range(0, 10):\n",
        "\n",
        "    if len(num)==8:\n",
        "                num1=(num[2]+num[3]+num[4]+num[5])\n",
        "               # print(num1)\n",
        "                nsemilla=int(num1)\n",
        "                cuadrado=nsemilla**2\n",
        "                print(i+1,\".\"\"La nueva semilla es:\",nsemilla,\".Y elevada al cuadrado es: \",cuadrado)\n",
        "                print()\n",
        "                i=i+1;\n",
        "                num=list(str(cuadrado))\n",
        "    else:\n",
        "                num0=[0]+num\n",
        "              #  print(num0)\n",
        "                num1=(num0[2]+num0[3]+num0[4]+num0[5])\n",
        "               # print(num1)\n",
        "                nsemilla=int(num1)\n",
        "                cuadrado=nsemilla**2\n",
        "                print(i+1,\".La nueva semilla es: \",nsemilla,\".Y elevada al cuadrado es: \",cuadrado)\n",
        "                print()\n",
        "                num=list(str(cuadrado))\n",
        "                i=i+1;\n",
        ""
      ]
    }
  ]
}