{
  "nbformat": 4,
  "nbformat_minor": 0,
  "metadata": {
    "colab": {
      "provenance": [],
      "authorship_tag": "ABX9TyN/G3V75+aFFtueWYzekjl8",
      "include_colab_link": true
    },
    "kernelspec": {
      "name": "python3",
      "display_name": "Python 3"
    },
    "language_info": {
      "name": "python"
    }
  },
  "cells": [
    {
      "cell_type": "markdown",
      "metadata": {
        "id": "view-in-github",
        "colab_type": "text"
      },
      "source": [
        "<a href=\"https://colab.research.google.com/github/XiadaniCue/Simulaci-n-1/blob/main/Untitled1.ipynb\" target=\"_parent\"><img src=\"https://colab.research.google.com/assets/colab-badge.svg\" alt=\"Open In Colab\"/></a>"
      ]
    },
    {
      "cell_type": "code",
      "execution_count": 1,
      "metadata": {
        "colab": {
          "base_uri": "https://localhost:8080/"
        },
        "id": "87-cF2QDYR_Z",
        "outputId": "227ae4cf-e6d6-465d-e5fb-18e7a37a31da"
      },
      "outputs": [
        {
          "output_type": "stream",
          "name": "stdout",
          "text": [
            "['5', '6', '0', '8', '8']\n",
            "1 .x0 es: 456\n",
            "X1 es: 608\n",
            "2 .x0 es: 608\n",
            "X1 es: 772\n",
            "3 .x0 es: 772\n",
            "X1 es: 693\n",
            "4 .x0 es: 693\n",
            "X1 es: 349\n"
          ]
        }
      ],
      "source": [
        "x0=123\n",
        "x1=456\n",
        "num0=x1*x0\n",
        "num=list(str(num0))\n",
        "print(num)\n",
        "\n",
        "for i in range(0,4):\n",
        "        if len(num)==5:\n",
        "            x0=x1\n",
        "            num1=(num[1]+num[2]+num[3])\n",
        "            print(i+1,\".x0 es:\",x0)\n",
        "            x1=int(num1)\n",
        "            print(\"X1 es:\",x1)\n",
        "            num0=x1*x0\n",
        "            num=list(str(num0))\n",
        "        else:\n",
        "            x0=x1\n",
        "            num2=[0]+num\n",
        "           # print(num2)\n",
        "            num1=(num2[2]+num2[3]+num2[4])\n",
        "            print(i+1,\".x0 es:\",x0)\n",
        "            x1=int(num1)\n",
        "            print(\"X1 es:\",x1)\n",
        "            num0=x1*x0\n",
        "        num=list(str(num0))\n",
        "\n"
      ]
    }
  ]
}