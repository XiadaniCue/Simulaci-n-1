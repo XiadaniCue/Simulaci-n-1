{
  "nbformat": 4,
  "nbformat_minor": 0,
  "metadata": {
    "colab": {
      "provenance": [],
      "authorship_tag": "ABX9TyNl/GCQQbXpex7IkCznFz+0",
      "include_colab_link": true
    },
    "kernelspec": {
      "name": "python3",
      "display_name": "Python 3"
    },
    "language_info": {
      "name": "python"
    }
  },
  "cells": [
    {
      "cell_type": "markdown",
      "metadata": {
        "id": "view-in-github",
        "colab_type": "text"
      },
      "source": [
        "<a href=\"https://colab.research.google.com/github/XiadaniCue/Simulaci-n-1/blob/main/M%C3%A9todo_de_Producto_Medio.ipynb\" target=\"_parent\"><img src=\"https://colab.research.google.com/assets/colab-badge.svg\" alt=\"Open In Colab\"/></a>"
      ]
    },
    {
      "cell_type": "markdown",
      "source": [
        "#Método de Producto Medio\n",
        "\n",
        "Xoadani Paola Reyes Cuellar"
      ],
      "metadata": {
        "id": "bDNpAcpO1CEZ"
      }
    },
    {
      "cell_type": "code",
      "execution_count": 4,
      "metadata": {
        "id": "87-cF2QDYR_Z",
        "outputId": "6acefee8-c40c-49b3-9802-dae14a1c402e",
        "colab": {
          "base_uri": "https://localhost:8080/"
        }
      },
      "outputs": [
        {
          "output_type": "stream",
          "name": "stdout",
          "text": [
            "['5', '6', '0', '8', '8']\n",
            "1 - x0 es: 456\n",
            "X1 es: 608\n",
            "2 - x0 es: 608\n",
            "X1 es: 772\n",
            "3 - x0 es: 772\n",
            "X1 es: 693\n",
            "4 - x0 es: 693\n",
            "X1 es: 349\n",
            "5 - x0 es: 349\n",
            "X1 es: 418\n",
            "6 - x0 es: 418\n",
            "X1 es: 458\n",
            "7 - x0 es: 458\n",
            "X1 es: 914\n",
            "8 - x0 es: 914\n",
            "X1 es: 186\n",
            "9 - x0 es: 186\n",
            "X1 es: 700\n",
            "10 - x0 es: 700\n",
            "X1 es: 302\n"
          ]
        }
      ],
      "source": [
        "#Este método nos ayuda agenerar numero aleatorios con 2 semillas aleatorias de p digitos\n",
        "\n",
        "x0=123\n",
        "x1=456\n",
        "num0=x1*x0\n",
        "num=list(str(num0))\n",
        "print(num)\n",
        "\n",
        "for i in range(0,10):\n",
        "  if len(num)==5:\n",
        "    x0=x1\n",
        "    num1=(num[1]+num[2]+num[3])\n",
        "    print(i+1,\"- x0 es:\",x0)\n",
        "    x1=int(num1)\n",
        "    print(\"X1 es:\",x1)\n",
        "    num0=x1*x0\n",
        "    num=list(str(num0))\n",
        "  else:\n",
        "    x0=x1\n",
        "    num2=[0]+num\n",
        "    # print(num2)\n",
        "    num1=(num2[2]+num2[3]+num2[4])\n",
        "    print(i+1,\"- x0 es:\",x0)\n",
        "    x1=int(num1)\n",
        "    print(\"X1 es:\",x1)\n",
        "    num0=x1*x0\n",
        "    num=list(str(num0))\n",
        "\n"
      ]
    },
    {
      "cell_type": "code",
      "source": [],
      "metadata": {
        "id": "s0U5th4f2Zwa"
      },
      "execution_count": null,
      "outputs": []
    }
  ]
}