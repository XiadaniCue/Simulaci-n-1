{
  "nbformat": 4,
  "nbformat_minor": 0,
  "metadata": {
    "colab": {
      "provenance": [],
      "authorship_tag": "ABX9TyOx/zlyuKgcWeWGP8IowoN+",
      "include_colab_link": true
    },
    "kernelspec": {
      "name": "python3",
      "display_name": "Python 3"
    },
    "language_info": {
      "name": "python"
    }
  },
  "cells": [
    {
      "cell_type": "markdown",
      "metadata": {
        "id": "view-in-github",
        "colab_type": "text"
      },
      "source": [
        "<a href=\"https://colab.research.google.com/github/XiadaniCue/Simulaci-n-1/blob/main/Ejemplo_de_Funci%C3%B3n_Triangular.ipynb\" target=\"_parent\"><img src=\"https://colab.research.google.com/assets/colab-badge.svg\" alt=\"Open In Colab\"/></a>"
      ]
    },
    {
      "cell_type": "code",
      "execution_count": null,
      "metadata": {
        "id": "wgEl79IeMLRW"
      },
      "outputs": [],
      "source": [
        "import random as rnd\n",
        "import numpy as np\n",
        "import matplotlib.pyplot as plt\n",
        "import math\n",
        "\n",
        "def tri(n=10):\n",
        "  lista=[]\n",
        "\n",
        "  for k in range(n):\n",
        "    u=rnd.random()\n",
        "\n",
        "    x=(5/4)+(np.sqrt((25/16)-2*u))\n",
        "    lista.append(x)\n",
        "  return lista"
      ]
    },
    {
      "cell_type": "code",
      "source": [
        "T=tri(100)"
      ],
      "metadata": {
        "colab": {
          "base_uri": "https://localhost:8080/"
        },
        "id": "iF-cXKxzOhZn",
        "outputId": "8592035f-9b47-4909-f0b1-a0d95b421273"
      },
      "execution_count": null,
      "outputs": [
        {
          "output_type": "stream",
          "name": "stderr",
          "text": [
            "<ipython-input-29-78a24b9acc9d>:12: RuntimeWarning: invalid value encountered in sqrt\n",
            "  x=(5/4)+(np.sqrt((25/16)-2*u))\n"
          ]
        }
      ]
    },
    {
      "cell_type": "code",
      "source": [
        "#Calculamos la media\n",
        "mu=np.mean(T)\n",
        "print(mu)"
      ],
      "metadata": {
        "colab": {
          "base_uri": "https://localhost:8080/"
        },
        "id": "sJEaT3d0Rt_Q",
        "outputId": "ca7e546a-d8cf-4700-9ffb-a9be80ca2630"
      },
      "execution_count": null,
      "outputs": [
        {
          "output_type": "stream",
          "name": "stdout",
          "text": [
            "nan\n"
          ]
        }
      ]
    },
    {
      "cell_type": "code",
      "source": [
        "#calculamos la varianza\n",
        "sigma2=np.var(T)\n",
        "print(sigma2)"
      ],
      "metadata": {
        "colab": {
          "base_uri": "https://localhost:8080/"
        },
        "id": "NrUo-0DyR-FB",
        "outputId": "0d0ee3ed-e12f-4ac9-f664-f1241a658920"
      },
      "execution_count": null,
      "outputs": [
        {
          "output_type": "stream",
          "name": "stdout",
          "text": [
            "nan\n"
          ]
        }
      ]
    },
    {
      "cell_type": "code",
      "source": [
        "#El histograma nos ordena nuestros números por categorías\n",
        "\n",
        "plt.hist(T)\n",
        "plt.title(\"Gráfica de densidad\")"
      ],
      "metadata": {
        "colab": {
          "base_uri": "https://localhost:8080/",
          "height": 269
        },
        "id": "E9GBKaPBSNsc",
        "outputId": "517d293e-352a-4c36-c612-79d4fd7f3383"
      },
      "execution_count": null,
      "outputs": [
        {
          "output_type": "execute_result",
          "data": {
            "text/plain": [
              "Text(0.5, 1.0, 'Gráfica de densidad')"
            ]
          },
          "metadata": {},
          "execution_count": 40
        },
        {
          "output_type": "display_data",
          "data": {
            "text/plain": [
              "<Figure size 640x480 with 1 Axes>"
            ],
            "image/png": "[encoded data removed]"
          },
          "metadata": {}
        }
      ]
    }
  ]
}