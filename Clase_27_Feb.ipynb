{
  "nbformat": 4,
  "nbformat_minor": 0,
  "metadata": {
    "colab": {
      "provenance": [],
      "authorship_tag": "ABX9TyNSGKiCCI4g7qQUT8F+iQr/",
      "include_colab_link": true
    },
    "kernelspec": {
      "name": "python3",
      "display_name": "Python 3"
    },
    "language_info": {
      "name": "python"
    }
  },
  "cells": [
    {
      "cell_type": "markdown",
      "metadata": {
        "id": "view-in-github",
        "colab_type": "text"
      },
      "source": [
        "<a href=\"https://colab.research.google.com/github/XiadaniCue/Simulaci-n-1/blob/main/Clase_27_Feb.ipynb\" target=\"_parent\"><img src=\"https://colab.research.google.com/assets/colab-badge.svg\" alt=\"Open In Colab\"/></a>"
      ]
    },
    {
      "cell_type": "markdown",
      "source": [
        "#Método de Congruencia\n",
        "Clase 27 de Febrero de 2024\n"
      ],
      "metadata": {
        "id": "TB7PCIVjNUH3"
      }
    },
    {
      "cell_type": "code",
      "execution_count": 52,
      "metadata": {
        "colab": {
          "base_uri": "https://localhost:8080/"
        },
        "id": "c0rrcSWjMOs1",
        "outputId": "fb0d70df-6530-42a3-a8b4-747ef3355c1e"
      },
      "outputs": [
        {
          "output_type": "stream",
          "name": "stdout",
          "text": [
            "N | x0 | módulo | xn | xn/m \n",
            "0 , 6 , 35 , 3 , 0.1875\n",
            "1 , 3 , 20 , 4 , 0.25\n",
            "2 , 4 , 25 , 9 , 0.5625\n",
            "3 , 9 , 50 , 2 , 0.125\n",
            "4 , 2 , 15 , 15 , 0.9375\n",
            "5 , 15 , 80 , 0 , 0.0\n",
            "6 , 0 , 5 , 5 , 0.3125\n",
            "7 , 5 , 30 , 14 , 0.875\n",
            "8 , 14 , 75 , 11 , 0.6875\n",
            "9 , 11 , 60 , 12 , 0.75\n",
            "10 , 12 , 65 , 1 , 0.0625\n",
            "11 , 1 , 10 , 10 , 0.625\n",
            "12 , 10 , 55 , 7 , 0.4375\n",
            "13 , 7 , 40 , 8 , 0.5\n",
            "14 , 8 , 45 , 13 , 0.8125\n",
            "15 , 13 , 70 , 6 , 0.375\n",
            "16 , 6 , 35 , 3 , 0.1875\n",
            "17 , 3 , 20 , 4 , 0.25\n",
            "18 , 4 , 25 , 9 , 0.5625\n",
            "19 , 9 , 50 , 2 , 0.125\n",
            "20 , 2 , 15 , 15 , 0.9375\n",
            "21 , 15 , 80 , 0 , 0.0\n",
            "22 , 0 , 5 , 5 , 0.3125\n",
            "23 , 5 , 30 , 14 , 0.875\n",
            "24 , 14 , 75 , 11 , 0.6875\n",
            "25 , 11 , 60 , 12 , 0.75\n",
            "26 , 12 , 65 , 1 , 0.0625\n",
            "27 , 1 , 10 , 10 , 0.625\n",
            "28 , 10 , 55 , 7 , 0.4375\n",
            "29 , 7 , 40 , 8 , 0.5\n",
            "30 , 8 , 45 , 13 , 0.8125\n",
            "31 , 13 , 70 , 6 , 0.375\n",
            "32 , 6 , 35 , 3 , 0.1875\n",
            "33 , 3 , 20 , 4 , 0.25\n",
            "34 , 4 , 25 , 9 , 0.5625\n",
            "35 , 9 , 50 , 2 , 0.125\n",
            "36 , 2 , 15 , 15 , 0.9375\n",
            "37 , 15 , 80 , 0 , 0.0\n",
            "38 , 0 , 5 , 5 , 0.3125\n",
            "39 , 5 , 30 , 14 , 0.875\n",
            "40 , 14 , 75 , 11 , 0.6875\n",
            "41 , 11 , 60 , 12 , 0.75\n",
            "42 , 12 , 65 , 1 , 0.0625\n",
            "43 , 1 , 10 , 10 , 0.625\n",
            "44 , 10 , 55 , 7 , 0.4375\n",
            "45 , 7 , 40 , 8 , 0.5\n",
            "46 , 8 , 45 , 13 , 0.8125\n",
            "47 , 13 , 70 , 6 , 0.375\n",
            "48 , 6 , 35 , 3 , 0.1875\n",
            "49 , 3 , 20 , 4 , 0.25\n"
          ]
        }
      ],
      "source": [
        "from os import major\n",
        "#Semilla\n",
        "x0=6\n",
        "# divisor\n",
        "m=16\n",
        "#Constantes\n",
        "a=5\n",
        "c=5\n",
        "print ('N | x0 | módulo | xn | xn/m ')\n",
        "for n in range(0,50):\n",
        "  x=(a*x0)+c\n",
        "  xmod= x%m\n",
        "  div=xmod/m\n",
        "  print (n, ',', x0, ',',  x, ',', xmod, ',', div)\n",
        "  x0=xmod\n",
        "#m es quien define la longitud"
      ]
    },
    {
      "cell_type": "code",
      "source": [
        "import pandas as pd\n",
        "#Semilla\n",
        "x0=6\n",
        "# divisor\n",
        "m=16\n",
        "#Constantes\n",
        "a=5\n",
        "c=5\n",
        "for n in range(0,5):\n",
        "  x=(a*x0)+c\n",
        "  xmod= x%m\n",
        "  div=xmod/m\n",
        "  tabla= pd.DataFrame(n, columns=[\"N\"])\n",
        "  print (tabla)\n",
        "  x0=xmod"
      ],
      "metadata": {
        "colab": {
          "base_uri": "https://localhost:8080/",
          "height": 332
        },
        "id": "b-UynjTrNRIq",
        "outputId": "0a99969f-001d-4a6e-ac2f-aec5b95721be"
      },
      "execution_count": 55,
      "outputs": [
        {
          "output_type": "error",
          "ename": "ValueError",
          "evalue": "DataFrame constructor not properly called!",
          "traceback": [
            "\u001b[0;31m---------------------------------------------------------------------------\u001b[0m",
            "\u001b[0;31mValueError\u001b[0m                                Traceback (most recent call last)",
            "\u001b[0;32m<ipython-input-55-d9d36921d0b6>\u001b[0m in \u001b[0;36m<cell line: 9>\u001b[0;34m()\u001b[0m\n\u001b[1;32m     11\u001b[0m   \u001b[0mxmod\u001b[0m\u001b[0;34m=\u001b[0m \u001b[0mx\u001b[0m\u001b[0;34m%\u001b[0m\u001b[0mm\u001b[0m\u001b[0;34m\u001b[0m\u001b[0;34m\u001b[0m\u001b[0m\n\u001b[1;32m     12\u001b[0m   \u001b[0mdiv\u001b[0m\u001b[0;34m=\u001b[0m\u001b[0mxmod\u001b[0m\u001b[0;34m/\u001b[0m\u001b[0mm\u001b[0m\u001b[0;34m\u001b[0m\u001b[0;34m\u001b[0m\u001b[0m\n\u001b[0;32m---> 13\u001b[0;31m   \u001b[0mtabla\u001b[0m\u001b[0;34m=\u001b[0m \u001b[0mpd\u001b[0m\u001b[0;34m.\u001b[0m\u001b[0mDataFrame\u001b[0m\u001b[0;34m(\u001b[0m\u001b[0mn\u001b[0m\u001b[0;34m,\u001b[0m \u001b[0mcolumns\u001b[0m\u001b[0;34m=\u001b[0m\u001b[0;34m[\u001b[0m\u001b[0;34m\"N\"\u001b[0m\u001b[0;34m]\u001b[0m\u001b[0;34m)\u001b[0m\u001b[0;34m\u001b[0m\u001b[0;34m\u001b[0m\u001b[0m\n\u001b[0m\u001b[1;32m     14\u001b[0m   \u001b[0mprint\u001b[0m \u001b[0;34m(\u001b[0m\u001b[0mtabla\u001b[0m\u001b[0;34m)\u001b[0m\u001b[0;34m\u001b[0m\u001b[0;34m\u001b[0m\u001b[0m\n\u001b[1;32m     15\u001b[0m   \u001b[0mx0\u001b[0m\u001b[0;34m=\u001b[0m\u001b[0mxmod\u001b[0m\u001b[0;34m\u001b[0m\u001b[0;34m\u001b[0m\u001b[0m\n",
            "\u001b[0;32m/usr/local/lib/python3.10/dist-packages/pandas/core/frame.py\u001b[0m in \u001b[0;36m__init__\u001b[0;34m(self, data, index, columns, dtype, copy)\u001b[0m\n\u001b[1;32m    779\u001b[0m         \u001b[0;32melse\u001b[0m\u001b[0;34m:\u001b[0m\u001b[0;34m\u001b[0m\u001b[0;34m\u001b[0m\u001b[0m\n\u001b[1;32m    780\u001b[0m             \u001b[0;32mif\u001b[0m \u001b[0mindex\u001b[0m \u001b[0;32mis\u001b[0m \u001b[0;32mNone\u001b[0m \u001b[0;32mor\u001b[0m \u001b[0mcolumns\u001b[0m \u001b[0;32mis\u001b[0m \u001b[0;32mNone\u001b[0m\u001b[0;34m:\u001b[0m\u001b[0;34m\u001b[0m\u001b[0;34m\u001b[0m\u001b[0m\n\u001b[0;32m--> 781\u001b[0;31m                 \u001b[0;32mraise\u001b[0m \u001b[0mValueError\u001b[0m\u001b[0;34m(\u001b[0m\u001b[0;34m\"DataFrame constructor not properly called!\"\u001b[0m\u001b[0;34m)\u001b[0m\u001b[0;34m\u001b[0m\u001b[0;34m\u001b[0m\u001b[0m\n\u001b[0m\u001b[1;32m    782\u001b[0m \u001b[0;34m\u001b[0m\u001b[0m\n\u001b[1;32m    783\u001b[0m             \u001b[0mindex\u001b[0m \u001b[0;34m=\u001b[0m \u001b[0mensure_index\u001b[0m\u001b[0;34m(\u001b[0m\u001b[0mindex\u001b[0m\u001b[0;34m)\u001b[0m\u001b[0;34m\u001b[0m\u001b[0;34m\u001b[0m\u001b[0m\n",
            "\u001b[0;31mValueError\u001b[0m: DataFrame constructor not properly called!"
          ]
        }
      ]
    },
    {
      "cell_type": "code",
      "source": [],
      "metadata": {
        "id": "v81P4Zb7T5HP"
      },
      "execution_count": null,
      "outputs": []
    }
  ]
}