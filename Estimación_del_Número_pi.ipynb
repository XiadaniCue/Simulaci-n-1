{
  "nbformat": 4,
  "nbformat_minor": 0,
  "metadata": {
    "colab": {
      "provenance": [],
      "authorship_tag": "ABX9TyNp+lFAWdQaVycdtl+gJu2f",
      "include_colab_link": true
    },
    "kernelspec": {
      "name": "python3",
      "display_name": "Python 3"
    },
    "language_info": {
      "name": "python"
    }
  },
  "cells": [
    {
      "cell_type": "markdown",
      "metadata": {
        "id": "view-in-github",
        "colab_type": "text"
      },
      "source": [
        "<a href=\"https://colab.research.google.com/github/XiadaniCue/Simulaci-n-1/blob/main/Estimaci%C3%B3n_del_N%C3%BAmero_pi.ipynb\" target=\"_parent\"><img src=\"https://colab.research.google.com/assets/colab-badge.svg\" alt=\"Open In Colab\"/></a>"
      ]
    },
    {
      "cell_type": "markdown",
      "source": [
        "#Estimación del número $π$\n",
        "\n",
        "**Analíticamente**\n",
        "\n",
        "**Experimento:**  Generar $U_1,U_2 \\sim (0,1)$\n",
        "Éxito: $U_2 ≤ \\sqrt{1-U_2}$\n",
        "\n",
        "Hacerlo n veces\n",
        "\n",
        "**Nuestro estimador:** $\\pi = \\frac{4n}{N}$\n",
        "\n",
        "**Consideramos la variable**\n",
        "$$x_i= \\Biggl\\{\\begin{array}{c}1~si~el~dardo~cae~dentro~del~punto~(p) \\\\ 0~~~si~cae~fuera~(1-p) \\end{array}$$\n",
        "\n",
        "Ahora consideramos\n",
        "$$z= 4 \\frac{x_1+x_2+...+x_N}{N}$$\n",
        "\n",
        "Y calculamos el Valor Esperado:\n",
        "$$E(z)= \\frac{4}{N} E[x_i] +...+ E[x_N]$$\n",
        "Calculamos\n",
        "$$E[x_i]= (1(p)+0(1-p) =p$$\n",
        "Entonces:\n",
        "$$E(z)= \\frac{4}{N} Np $$\n",
        "$$E(z)=4p$$\n",
        "\n",
        "\n",
        "Calculamos la Varianza:\n",
        "$$V[z_n] = \\frac{16}{N^2}(V[x_1] + \\cdots + V[x_n])$$\n",
        "Calculamos:\n",
        "$$V[x_i] = E[x_i ^2] - E[x_i]^2 \\\\ = (1^2 \\cdot p + 0^2 \\cdot( 1 - p )) - p^2 \\\\ p-p^2=p(1-p)$$\n",
        "$$\\\\\\ V[z_n] = \\frac{16}{N^2} \\cdot Np(1-p) \\\\ { V[z_n] = \\frac{ 16p(1-p)}{N} }$$\n",
        "\n",
        "---\n",
        "Ahora podemos usar la desigualdad de Chebyshev:\n",
        "$$ P(|Z_n - E[z_n] | \\geq \\epsilon) \\leq \\frac{V[z_n]}{\\epsilon ^2}  \\\\ {P(|Z_n - π | \\geq \\epsilon) \\leq \\frac{16p(1-p)}{N \\epsilon ^2} } $$\n",
        "\n",
        "\n",
        "\n",
        "Luego, dando un valor de $\\epsilon$ podemos calcular el valor de N.\n",
        "\n",
        "**Ejemplo:**\n",
        "\n",
        "¿Cuántas dardos hay que lanzar para que la probabilidad de cometer un error mayor o igual que 0.1 sea menor que 0.01?\n",
        "\n",
        "*Conocemos p (supongamos que sabemos que $p = \\pi$)*\n",
        "\n",
        "**$\\epsilon$ es el error o la desviación estándar**\n",
        "\n",
        "Sol:\n",
        "$$\\epsilon = 0.1 \\\\ P(|z_n - \\pi| \\geq \\epsilon ) = 0.01 \\\\ \\Longrightarrow N = \\frac{16 p(1-p)}{ P(|z_n - \\pi| \\geq \\epsilon } \\cdot \\epsilon ^2 = \\frac{16 \\frac{\\pi}{4} (1 - \\frac{\\pi}{4}) }{0.01 (0.1)^2 } \\\\ N \\approx 26,000$$\n",
        "\n",
        "**Sin conocer P**\n",
        "\n",
        "Si no conocemos p, analizamos.\n",
        "\n",
        "Sabemos que $0≤ p≤ 1$\n",
        "\n",
        "Gradicamente, podemos analizar que\n",
        "$$p(1-p) ≤ \\frac{1}{4}$$\n",
        "\n",
        "Volvemos a calcular\n",
        "$$N≤ \\frac{ 16 \\biggl( \\frac{1}{4} \\biggl)}{(0.01)(0.1)^2}$$\n",
        "$$N≤40,000$$\n",
        "\n",
        "\n",
        "\n"
      ],
      "metadata": {
        "id": "i2DHZxrowVO2"
      }
    },
    {
      "cell_type": "markdown",
      "source": [
        "**Por simulación**"
      ],
      "metadata": {
        "id": "ixE3nbHupnAm"
      }
    },
    {
      "cell_type": "code",
      "source": [
        "import numpy as np\n",
        "import matplotlib.pyplot as plt\n",
        "import random as rnd"
      ],
      "metadata": {
        "id": "IAHektWJwqaI"
      },
      "execution_count": 1,
      "outputs": []
    },
    {
      "cell_type": "code",
      "source": [
        "x=np.linspace(0,1,100)\n",
        "plt.plot(x,np.sqrt(1-x**2))\n",
        "for i in range(20):\n",
        "  u1=rnd.random()\n",
        "  u2=rnd.random()\n",
        "  if u2<=np.sqrt(1-u1**2):\n",
        "    plt.scatter(u1,u2, color=\"red\")\n",
        "  else:\n",
        "    plt.scatter(u1, u2, color=\"blue\")\n",
        "plt.show()"
      ],
      "metadata": {
        "colab": {
          "base_uri": "https://localhost:8080/",
          "height": 430
        },
        "id": "MoyLdAcUw4Cx",
        "outputId": "3e134790-93a7-4095-8659-897a1a603da5"
      },
      "execution_count": 2,
      "outputs": [
        {
          "output_type": "display_data",
          "data": {
            "text/plain": [
              "<Figure size 640x480 with 1 Axes>"
            ],
            "image/png": "[encoded data removed]"
          },
          "metadata": {}
        }
      ]
    },
    {
      "cell_type": "code",
      "source": [
        "def proba(N):\n",
        "  lista=[]\n",
        "  exitos=0\n",
        "  for k in range(N):\n",
        "    u1=rnd.random()\n",
        "    u2=rnd.random()\n",
        "    if u2<=np.sqrt(1-u1**2):\n",
        "      exitos=exitos+1\n",
        "    prob=exitos/(k+1)\n",
        "    lista.append(4*prob)\n",
        "  return lista"
      ],
      "metadata": {
        "id": "GBreVp-NxBu-"
      },
      "execution_count": 3,
      "outputs": []
    },
    {
      "cell_type": "code",
      "source": [
        "m=proba(1000)"
      ],
      "metadata": {
        "id": "7eSBfdmsyjSw"
      },
      "execution_count": 4,
      "outputs": []
    },
    {
      "cell_type": "code",
      "source": [
        "#Calculamos la media\n",
        "media= np.mean(m)"
      ],
      "metadata": {
        "id": "yOarm-HokpyD"
      },
      "execution_count": 5,
      "outputs": []
    },
    {
      "cell_type": "code",
      "source": [
        "#calulamos la Varianza\n",
        "vari=np.var(m)"
      ],
      "metadata": {
        "id": "8Uldt37sk2v9"
      },
      "execution_count": 6,
      "outputs": []
    },
    {
      "cell_type": "code",
      "source": [
        "#Calculamos la desviación estándar\n",
        "desv=np.std(m)"
      ],
      "metadata": {
        "id": "6tRPn3FulNHK"
      },
      "execution_count": 7,
      "outputs": []
    },
    {
      "cell_type": "code",
      "source": [
        "a=media+desv\n",
        "b=media-desv"
      ],
      "metadata": {
        "id": "1KBR0H2Elzve"
      },
      "execution_count": 8,
      "outputs": []
    },
    {
      "cell_type": "code",
      "source": [
        "plt.axhline(3.1416, color=\"orange\", linestyle=\"--\")\n",
        "plt.axvline(x=500, ymin=0, ymax=2, linestyle=\"--\", color=\"orange\")\n",
        "plt.axhline(a, color=\"red\", linestyle=\"--\")\n",
        "plt.axhline(b, color=\"red\", linestyle=\"--\")\n",
        "plt.axhline(media, color=\"c\", linestyle=\"--\")\n",
        "plt.plot(m, color=\"m\")\n",
        "plt.show()"
      ],
      "metadata": {
        "colab": {
          "base_uri": "https://localhost:8080/",
          "height": 430
        },
        "id": "YyyNaGeIzMX1",
        "outputId": "620c3989-9a55-42cb-ac3f-89aa8149377b"
      },
      "execution_count": 17,
      "outputs": [
        {
          "output_type": "display_data",
          "data": {
            "text/plain": [
              "<Figure size 640x480 with 1 Axes>"
            ],
            "image/png": "[encoded data removed]"
          },
          "metadata": {}
        }
      ]
    },
    {
      "cell_type": "code",
      "source": [
        "#Se ve una muestra considerable de tamaño N≈500 donde da un resultado aceptable"
      ],
      "metadata": {
        "id": "NuXx4r6hmvo9"
      },
      "execution_count": 10,
      "outputs": []
    },
    {
      "cell_type": "code",
      "source": [
        "#Para modificar la función y convertirla en una corrida de simulación\n",
        "#Solo nos muestra la probabilidad\n",
        "def simulacion(N):\n",
        "  lista=[]\n",
        "  exitos=0\n",
        "  for k in range(N):\n",
        "    u1=rnd.random()\n",
        "    u2=rnd.random()\n",
        "    if u2<=np.sqrt(1-u1**2):\n",
        "      exitos=exitos+1\n",
        "    prob=exitos/(k+1)\n",
        "    lista.append(4*prob)\n",
        "  return prob\n",
        "\n",
        "#Con ayuda de nuestra gráfica podemos fijar el valor se N=500"
      ],
      "metadata": {
        "id": "bVwNtisQm-Ml"
      },
      "execution_count": 11,
      "outputs": []
    },
    {
      "cell_type": "code",
      "source": [
        "def sim(n):\n",
        "  L=[]\n",
        "  for i in range(n):\n",
        "    R=simulacion(500)\n",
        "    L.append(R)\n",
        "  return L"
      ],
      "metadata": {
        "id": "qyRo0t1-neRx"
      },
      "execution_count": 12,
      "outputs": []
    },
    {
      "cell_type": "code",
      "source": [
        "M=sim(10000)"
      ],
      "metadata": {
        "id": "nbYHcTADpA-h"
      },
      "execution_count": 13,
      "outputs": []
    },
    {
      "cell_type": "code",
      "source": [
        "plt.hist(M, bins=500)"
      ],
      "metadata": {
        "colab": {
          "base_uri": "https://localhost:8080/",
          "height": 1000
        },
        "id": "kFjNZ4C1pPcE",
        "outputId": "cedf52ce-8e0b-4c90-c1aa-c759dd643954"
      },
      "execution_count": 14,
      "outputs": [
        {
          "output_type": "execute_result",
          "data": {
            "text/plain": [
              "(array([  1.,   0.,   0.,   0.,   0.,   0.,   0.,   1.,   0.,   0.,   0.,\n",
              "          0.,   0.,   0.,   0.,   0.,   0.,   0.,   0.,   0.,   0.,   0.,\n",
              "          0.,   0.,   0.,   0.,   0.,   0.,   3.,   0.,   0.,   0.,   0.,\n",
              "          0.,   0.,   1.,   0.,   0.,   0.,   0.,   0.,   0.,   4.,   0.,\n",
              "          0.,   0.,   0.,   0.,   0.,   9.,   0.,   0.,   0.,   0.,   0.,\n",
              "          0.,   9.,   0.,   0.,   0.,   0.,   0.,   0.,   9.,   0.,   0.,\n",
              "          0.,   0.,   0.,   0.,  12.,   0.,   0.,   0.,   0.,   0.,   0.,\n",
              "         12.,   0.,   0.,   0.,   0.,   0.,   0.,  13.,   0.,   0.,   0.,\n",
              "          0.,   0.,   0.,  28.,   0.,   0.,   0.,   0.,   0.,   0.,  32.,\n",
              "          0.,   0.,   0.,   0.,   0.,   0.,  39.,   0.,   0.,   0.,   0.,\n",
              "          0.,   0.,  43.,   0.,   0.,   0.,   0.,   0.,   0.,  53.,   0.,\n",
              "          0.,   0.,   0.,   0.,   0.,  82.,   0.,   0.,   0.,   0.,   0.,\n",
              "          0.,  76.,   0.,   0.,   0.,   0.,   0.,   0., 101.,   0.,   0.,\n",
              "          0.,   0.,   0.,   0., 112.,   0.,   0.,   0.,   0.,   0.,   0.,\n",
              "        141.,   0.,   0.,   0.,   0.,   0.,   0., 153.,   0.,   0.,   0.,\n",
              "          0.,   0.,   0.,   0., 181.,   0.,   0.,   0.,   0.,   0.,   0.,\n",
              "        209.,   0.,   0.,   0.,   0.,   0.,   0., 242.,   0.,   0.,   0.,\n",
              "          0.,   0.,   0., 268.,   0.,   0.,   0.,   0.,   0.,   0., 291.,\n",
              "          0.,   0.,   0.,   0.,   0.,   0., 341.,   0.,   0.,   0.,   0.,\n",
              "          0.,   0., 347.,   0.,   0.,   0.,   0.,   0.,   0., 376.,   0.,\n",
              "          0.,   0.,   0.,   0.,   0., 439.,   0.,   0.,   0.,   0.,   0.,\n",
              "          0., 422.,   0.,   0.,   0.,   0.,   0.,   0., 400.,   0.,   0.,\n",
              "          0.,   0.,   0.,   0., 450.,   0.,   0.,   0.,   0.,   0.,   0.,\n",
              "        447.,   0.,   0.,   0.,   0.,   0.,   0., 405.,   0.,   0.,   0.,\n",
              "          0.,   0.,   0., 422.,   0.,   0.,   0.,   0.,   0.,   0., 364.,\n",
              "          0.,   0.,   0.,   0.,   0.,   0., 422.,   0.,   0.,   0.,   0.,\n",
              "          0.,   0., 375.,   0.,   0.,   0.,   0.,   0.,   0., 329.,   0.,\n",
              "          0.,   0.,   0.,   0.,   0., 351.,   0.,   0.,   0.,   0.,   0.,\n",
              "          0., 299.,   0.,   0.,   0.,   0.,   0.,   0., 246.,   0.,   0.,\n",
              "          0.,   0.,   0.,   0., 250.,   0.,   0.,   0.,   0.,   0.,   0.,\n",
              "        210.,   0.,   0.,   0.,   0.,   0.,   0.,   0., 165.,   0.,   0.,\n",
              "          0.,   0.,   0.,   0., 157.,   0.,   0.,   0.,   0.,   0.,   0.,\n",
              "        128.,   0.,   0.,   0.,   0.,   0.,   0., 123.,   0.,   0.,   0.,\n",
              "          0.,   0.,   0.,  78.,   0.,   0.,   0.,   0.,   0.,   0.,  73.,\n",
              "          0.,   0.,   0.,   0.,   0.,   0.,  65.,   0.,   0.,   0.,   0.,\n",
              "          0.,   0.,  52.,   0.,   0.,   0.,   0.,   0.,   0.,  36.,   0.,\n",
              "          0.,   0.,   0.,   0.,   0.,  25.,   0.,   0.,   0.,   0.,   0.,\n",
              "          0.,  21.,   0.,   0.,   0.,   0.,   0.,   0.,  17.,   0.,   0.,\n",
              "          0.,   0.,   0.,   0.,  12.,   0.,   0.,   0.,   0.,   0.,   0.,\n",
              "         10.,   0.,   0.,   0.,   0.,   0.,   0.,   4.,   0.,   0.,   0.,\n",
              "          0.,   0.,   0.,   7.,   0.,   0.,   0.,   0.,   0.,   0.,   3.,\n",
              "          0.,   0.,   0.,   0.,   0.,   0.,   2.,   0.,   0.,   0.,   0.,\n",
              "          0.,   0.,   1.,   0.,   0.,   0.,   0.,   0.,   0.,   0.,   0.,\n",
              "          0.,   0.,   0.,   0.,   0.,   0.,   0.,   0.,   0.,   0.,   0.,\n",
              "          0.,   0.,   0.,   0.,   0.,   0.,   0.,   0.,   0.,   0.,   0.,\n",
              "          0.,   0.,   0.,   0.,   1.]),\n",
              " array([0.714   , 0.714284, 0.714568, 0.714852, 0.715136, 0.71542 ,\n",
              "        0.715704, 0.715988, 0.716272, 0.716556, 0.71684 , 0.717124,\n",
              "        0.717408, 0.717692, 0.717976, 0.71826 , 0.718544, 0.718828,\n",
              "        0.719112, 0.719396, 0.71968 , 0.719964, 0.720248, 0.720532,\n",
              "        0.720816, 0.7211  , 0.721384, 0.721668, 0.721952, 0.722236,\n",
              "        0.72252 , 0.722804, 0.723088, 0.723372, 0.723656, 0.72394 ,\n",
              "        0.724224, 0.724508, 0.724792, 0.725076, 0.72536 , 0.725644,\n",
              "        0.725928, 0.726212, 0.726496, 0.72678 , 0.727064, 0.727348,\n",
              "        0.727632, 0.727916, 0.7282  , 0.728484, 0.728768, 0.729052,\n",
              "        0.729336, 0.72962 , 0.729904, 0.730188, 0.730472, 0.730756,\n",
              "        0.73104 , 0.731324, 0.731608, 0.731892, 0.732176, 0.73246 ,\n",
              "        0.732744, 0.733028, 0.733312, 0.733596, 0.73388 , 0.734164,\n",
              "        0.734448, 0.734732, 0.735016, 0.7353  , 0.735584, 0.735868,\n",
              "        0.736152, 0.736436, 0.73672 , 0.737004, 0.737288, 0.737572,\n",
              "        0.737856, 0.73814 , 0.738424, 0.738708, 0.738992, 0.739276,\n",
              "        0.73956 , 0.739844, 0.740128, 0.740412, 0.740696, 0.74098 ,\n",
              "        0.741264, 0.741548, 0.741832, 0.742116, 0.7424  , 0.742684,\n",
              "        0.742968, 0.743252, 0.743536, 0.74382 , 0.744104, 0.744388,\n",
              "        0.744672, 0.744956, 0.74524 , 0.745524, 0.745808, 0.746092,\n",
              "        0.746376, 0.74666 , 0.746944, 0.747228, 0.747512, 0.747796,\n",
              "        0.74808 , 0.748364, 0.748648, 0.748932, 0.749216, 0.7495  ,\n",
              "        0.749784, 0.750068, 0.750352, 0.750636, 0.75092 , 0.751204,\n",
              "        0.751488, 0.751772, 0.752056, 0.75234 , 0.752624, 0.752908,\n",
              "        0.753192, 0.753476, 0.75376 , 0.754044, 0.754328, 0.754612,\n",
              "        0.754896, 0.75518 , 0.755464, 0.755748, 0.756032, 0.756316,\n",
              "        0.7566  , 0.756884, 0.757168, 0.757452, 0.757736, 0.75802 ,\n",
              "        0.758304, 0.758588, 0.758872, 0.759156, 0.75944 , 0.759724,\n",
              "        0.760008, 0.760292, 0.760576, 0.76086 , 0.761144, 0.761428,\n",
              "        0.761712, 0.761996, 0.76228 , 0.762564, 0.762848, 0.763132,\n",
              "        0.763416, 0.7637  , 0.763984, 0.764268, 0.764552, 0.764836,\n",
              "        0.76512 , 0.765404, 0.765688, 0.765972, 0.766256, 0.76654 ,\n",
              "        0.766824, 0.767108, 0.767392, 0.767676, 0.76796 , 0.768244,\n",
              "        0.768528, 0.768812, 0.769096, 0.76938 , 0.769664, 0.769948,\n",
              "        0.770232, 0.770516, 0.7708  , 0.771084, 0.771368, 0.771652,\n",
              "        0.771936, 0.77222 , 0.772504, 0.772788, 0.773072, 0.773356,\n",
              "        0.77364 , 0.773924, 0.774208, 0.774492, 0.774776, 0.77506 ,\n",
              "        0.775344, 0.775628, 0.775912, 0.776196, 0.77648 , 0.776764,\n",
              "        0.777048, 0.777332, 0.777616, 0.7779  , 0.778184, 0.778468,\n",
              "        0.778752, 0.779036, 0.77932 , 0.779604, 0.779888, 0.780172,\n",
              "        0.780456, 0.78074 , 0.781024, 0.781308, 0.781592, 0.781876,\n",
              "        0.78216 , 0.782444, 0.782728, 0.783012, 0.783296, 0.78358 ,\n",
              "        0.783864, 0.784148, 0.784432, 0.784716, 0.785   , 0.785284,\n",
              "        0.785568, 0.785852, 0.786136, 0.78642 , 0.786704, 0.786988,\n",
              "        0.787272, 0.787556, 0.78784 , 0.788124, 0.788408, 0.788692,\n",
              "        0.788976, 0.78926 , 0.789544, 0.789828, 0.790112, 0.790396,\n",
              "        0.79068 , 0.790964, 0.791248, 0.791532, 0.791816, 0.7921  ,\n",
              "        0.792384, 0.792668, 0.792952, 0.793236, 0.79352 , 0.793804,\n",
              "        0.794088, 0.794372, 0.794656, 0.79494 , 0.795224, 0.795508,\n",
              "        0.795792, 0.796076, 0.79636 , 0.796644, 0.796928, 0.797212,\n",
              "        0.797496, 0.79778 , 0.798064, 0.798348, 0.798632, 0.798916,\n",
              "        0.7992  , 0.799484, 0.799768, 0.800052, 0.800336, 0.80062 ,\n",
              "        0.800904, 0.801188, 0.801472, 0.801756, 0.80204 , 0.802324,\n",
              "        0.802608, 0.802892, 0.803176, 0.80346 , 0.803744, 0.804028,\n",
              "        0.804312, 0.804596, 0.80488 , 0.805164, 0.805448, 0.805732,\n",
              "        0.806016, 0.8063  , 0.806584, 0.806868, 0.807152, 0.807436,\n",
              "        0.80772 , 0.808004, 0.808288, 0.808572, 0.808856, 0.80914 ,\n",
              "        0.809424, 0.809708, 0.809992, 0.810276, 0.81056 , 0.810844,\n",
              "        0.811128, 0.811412, 0.811696, 0.81198 , 0.812264, 0.812548,\n",
              "        0.812832, 0.813116, 0.8134  , 0.813684, 0.813968, 0.814252,\n",
              "        0.814536, 0.81482 , 0.815104, 0.815388, 0.815672, 0.815956,\n",
              "        0.81624 , 0.816524, 0.816808, 0.817092, 0.817376, 0.81766 ,\n",
              "        0.817944, 0.818228, 0.818512, 0.818796, 0.81908 , 0.819364,\n",
              "        0.819648, 0.819932, 0.820216, 0.8205  , 0.820784, 0.821068,\n",
              "        0.821352, 0.821636, 0.82192 , 0.822204, 0.822488, 0.822772,\n",
              "        0.823056, 0.82334 , 0.823624, 0.823908, 0.824192, 0.824476,\n",
              "        0.82476 , 0.825044, 0.825328, 0.825612, 0.825896, 0.82618 ,\n",
              "        0.826464, 0.826748, 0.827032, 0.827316, 0.8276  , 0.827884,\n",
              "        0.828168, 0.828452, 0.828736, 0.82902 , 0.829304, 0.829588,\n",
              "        0.829872, 0.830156, 0.83044 , 0.830724, 0.831008, 0.831292,\n",
              "        0.831576, 0.83186 , 0.832144, 0.832428, 0.832712, 0.832996,\n",
              "        0.83328 , 0.833564, 0.833848, 0.834132, 0.834416, 0.8347  ,\n",
              "        0.834984, 0.835268, 0.835552, 0.835836, 0.83612 , 0.836404,\n",
              "        0.836688, 0.836972, 0.837256, 0.83754 , 0.837824, 0.838108,\n",
              "        0.838392, 0.838676, 0.83896 , 0.839244, 0.839528, 0.839812,\n",
              "        0.840096, 0.84038 , 0.840664, 0.840948, 0.841232, 0.841516,\n",
              "        0.8418  , 0.842084, 0.842368, 0.842652, 0.842936, 0.84322 ,\n",
              "        0.843504, 0.843788, 0.844072, 0.844356, 0.84464 , 0.844924,\n",
              "        0.845208, 0.845492, 0.845776, 0.84606 , 0.846344, 0.846628,\n",
              "        0.846912, 0.847196, 0.84748 , 0.847764, 0.848048, 0.848332,\n",
              "        0.848616, 0.8489  , 0.849184, 0.849468, 0.849752, 0.850036,\n",
              "        0.85032 , 0.850604, 0.850888, 0.851172, 0.851456, 0.85174 ,\n",
              "        0.852024, 0.852308, 0.852592, 0.852876, 0.85316 , 0.853444,\n",
              "        0.853728, 0.854012, 0.854296, 0.85458 , 0.854864, 0.855148,\n",
              "        0.855432, 0.855716, 0.856   ]),\n",
              " <BarContainer object of 500 artists>)"
            ]
          },
          "metadata": {},
          "execution_count": 14
        },
        {
          "output_type": "display_data",
          "data": {
            "text/plain": [
              "<Figure size 640x480 with 1 Axes>"
            ],
            "image/png": "[encoded data removed]"
          },
          "metadata": {}
        }
      ]
    },
    {
      "cell_type": "code",
      "source": [
        "#¿Qué tipo de distribución es?\n",
        "#Podríamos decir que es una distibución Normal"
      ],
      "metadata": {
        "id": "uCwAaVdjqQrP"
      },
      "execution_count": 15,
      "outputs": []
    }
  ]
}