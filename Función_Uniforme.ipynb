{
  "nbformat": 4,
  "nbformat_minor": 0,
  "metadata": {
    "colab": {
      "provenance": [],
      "authorship_tag": "ABX9TyOF8EaTdSx8YJ8iOfLW5FEz",
      "include_colab_link": true
    },
    "kernelspec": {
      "name": "python3",
      "display_name": "Python 3"
    },
    "language_info": {
      "name": "python"
    }
  },
  "cells": [
    {
      "cell_type": "markdown",
      "metadata": {
        "id": "view-in-github",
        "colab_type": "text"
      },
      "source": [
        "<a href=\"https://colab.research.google.com/github/XiadaniCue/Simulaci-n-1/blob/main/Funci%C3%B3n_Uniforme.ipynb\" target=\"_parent\"><img src=\"https://colab.research.google.com/assets/colab-badge.svg\" alt=\"Open In Colab\"/></a>"
      ]
    },
    {
      "cell_type": "markdown",
      "source": [
        "**Transformada Inversa**\n",
        "\n",
        "Función Uniforme"
      ],
      "metadata": {
        "id": "_mkCsB59jLjI"
      }
    },
    {
      "cell_type": "code",
      "execution_count": null,
      "metadata": {
        "id": "hqgQ3RsoGRQx"
      },
      "outputs": [],
      "source": [
        "import random as rnd\n",
        "import numpy as np\n",
        "import matplotlib.pyplot as plt\n",
        "\n",
        "\n",
        "def uni(a=10,b=15,n=5):\n",
        "  lista=[]\n",
        "\n",
        "  for k in range(n):\n",
        "    u=rnd.random()\n",
        "    x=(u*(b-a))+a\n",
        "    lista.append(x)\n",
        "  return lista"
      ]
    },
    {
      "cell_type": "code",
      "source": [
        "uni()"
      ],
      "metadata": {
        "colab": {
          "base_uri": "https://localhost:8080/"
        },
        "id": "SHTTv3HKJMoC",
        "outputId": "335e7722-8f21-42cf-86ad-69e76d543b87"
      },
      "execution_count": null,
      "outputs": [
        {
          "output_type": "execute_result",
          "data": {
            "text/plain": [
              "[12.996176403959074,\n",
              " 11.41698731690092,\n",
              " 14.500127052320064,\n",
              " 10.22446025571996,\n",
              " 12.547635000090416]"
            ]
          },
          "metadata": {},
          "execution_count": 2
        }
      ]
    },
    {
      "cell_type": "code",
      "source": [
        "Z=uni(10,15,1000000)\n",
        "\n",
        "#print(Z)"
      ],
      "metadata": {
        "id": "-U3lqjIGJaUA"
      },
      "execution_count": null,
      "outputs": []
    },
    {
      "cell_type": "code",
      "source": [
        "#Calculamos la media\n",
        "med=np.mean(Z)\n",
        "\n",
        "print(med)"
      ],
      "metadata": {
        "colab": {
          "base_uri": "https://localhost:8080/"
        },
        "id": "5fhuGZUCJzQU",
        "outputId": "af7fb303-4417-4dec-a0a4-065f3cd1a518"
      },
      "execution_count": null,
      "outputs": [
        {
          "output_type": "stream",
          "name": "stdout",
          "text": [
            "12.501709614622845\n"
          ]
        }
      ]
    },
    {
      "cell_type": "code",
      "source": [
        "#calculamos la varianza\n",
        "var=np.var(Z)\n",
        "\n",
        "print(var)"
      ],
      "metadata": {
        "colab": {
          "base_uri": "https://localhost:8080/"
        },
        "id": "23FiZkKuKO4t",
        "outputId": "86e2dfa4-d13a-452d-8f6f-a6169f1001ef"
      },
      "execution_count": null,
      "outputs": [
        {
          "output_type": "stream",
          "name": "stdout",
          "text": [
            "2.0881596333824746\n"
          ]
        }
      ]
    },
    {
      "cell_type": "code",
      "source": [
        "#El histograma nos ordena nuestros números por categorías\n",
        "\n",
        "plt.hist(Z)\n",
        "plt.title(\"Gráfica de densidad\")"
      ],
      "metadata": {
        "colab": {
          "base_uri": "https://localhost:8080/",
          "height": 469
        },
        "id": "XwAQbn-kKYQu",
        "outputId": "d1689576-74eb-4ef3-d2cd-4b169dc8e32c"
      },
      "execution_count": null,
      "outputs": [
        {
          "output_type": "execute_result",
          "data": {
            "text/plain": [
              "Text(0.5, 1.0, 'Gráfica de densidad')"
            ]
          },
          "metadata": {},
          "execution_count": 6
        },
        {
          "output_type": "display_data",
          "data": {
            "text/plain": [
              "<Figure size 640x480 with 1 Axes>"
            ],
            "image/png": "[encoded data removed]"
          },
          "metadata": {}
        }
      ]
    },
    {
      "cell_type": "code",
      "source": [
        "#Hacemos nuestra gráfica acumulativa\n",
        "\n",
        "def acumulativa(m):\n",
        "  n=len(m)\n",
        "  x=np.sort(m)\n",
        "  y=np.arange(0,n)/n\n",
        "\n",
        "  return x,y"
      ],
      "metadata": {
        "id": "va-cVa3cMIHN"
      },
      "execution_count": null,
      "outputs": []
    },
    {
      "cell_type": "code",
      "source": [
        "X,Y=acumulativa(Z)"
      ],
      "metadata": {
        "id": "wcoEP9-xMNOH"
      },
      "execution_count": null,
      "outputs": []
    },
    {
      "cell_type": "code",
      "source": [
        "plt.step(X,Y)\n",
        "plt.title(\"Función Acumulativa\")\n",
        "plt.axhline(1, color=\"pink\", linestyle = \"--\")"
      ],
      "metadata": {
        "colab": {
          "base_uri": "https://localhost:8080/",
          "height": 469
        },
        "id": "x7Yms4xcMc6g",
        "outputId": "afa757ab-c423-4093-d3ab-2bea880cbd83"
      },
      "execution_count": null,
      "outputs": [
        {
          "output_type": "execute_result",
          "data": {
            "text/plain": [
              "<matplotlib.lines.Line2D at 0x79208d3b8fd0>"
            ]
          },
          "metadata": {},
          "execution_count": 9
        },
        {
          "output_type": "display_data",
          "data": {
            "text/plain": [
              "<Figure size 640x480 with 1 Axes>"
            ],
            "image/png": "[encoded data removed]"
          },
          "metadata": {}
        }
      ]
    },
    {
      "cell_type": "markdown",
      "source": [
        "#Ejercicio 2"
      ],
      "metadata": {
        "id": "lPpu6MyiOjue"
      }
    },
    {
      "cell_type": "code",
      "source": [],
      "metadata": {
        "id": "8MG8a4IYOnHW"
      },
      "execution_count": null,
      "outputs": []
    }
  ]
}