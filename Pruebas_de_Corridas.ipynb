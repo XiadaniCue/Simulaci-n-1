{
  "nbformat": 4,
  "nbformat_minor": 0,
  "metadata": {
    "colab": {
      "provenance": [],
      "authorship_tag": "ABX9TyNQSIqErj6wI56gXwQSuDbj",
      "include_colab_link": true
    },
    "kernelspec": {
      "name": "python3",
      "display_name": "Python 3"
    },
    "language_info": {
      "name": "python"
    }
  },
  "cells": [
    {
      "cell_type": "markdown",
      "metadata": {
        "id": "view-in-github",
        "colab_type": "text"
      },
      "source": [
        "<a href=\"https://colab.research.google.com/github/XiadaniCue/Simulaci-n-1/blob/main/Pruebas_de_Corridas.ipynb\" target=\"_parent\"><img src=\"https://colab.research.google.com/assets/colab-badge.svg\" alt=\"Open In Colab\"/></a>"
      ]
    },
    {
      "cell_type": "markdown",
      "source": [
        "#Pruebas de Corridas\n",
        "\n",
        "Xiadani Paola Reyes Cuellar"
      ],
      "metadata": {
        "id": "YDa-AWeAmtCo"
      }
    },
    {
      "cell_type": "code",
      "execution_count": 23,
      "metadata": {
        "colab": {
          "base_uri": "https://localhost:8080/"
        },
        "id": "Nxx4oAHimrrh",
        "outputId": "85db6c30-cef8-40e0-834a-33ef41c426d7"
      },
      "outputs": [
        {
          "output_type": "stream",
          "name": "stdout",
          "text": [
            "[1, 0, 0, 1, 0, 0, 1, 0, 1, 0, 1, 0, 1, 1, 1, 0, 0, 1, 0, 0, 0, 0, 1, 1]\n",
            "Nuestras corridas son:\n",
            "0 - 1\n",
            "1 - 2\n",
            "2 - 1\n",
            "3 - 2\n",
            "4 - 1\n",
            "5 - 1\n",
            "6 - 1\n",
            "7 - 1\n",
            "8 - 1\n",
            "9 - 1\n",
            "10 - 3\n",
            "11 - 2\n",
            "12 - 1\n",
            "13 - 4\n",
            "14 - 2\n",
            "La esperaza es:  16.333333333333332\n",
            "La varianza es:  4.122222222222222\n",
            "El estadístico es:  -0.6567091033031179\n",
            "Se acepta la hipotesis\n"
          ]
        }
      ],
      "source": [
        "from posixpath import normcase\n",
        "import pandas as pd\n",
        "\n",
        "#Tenemos una lista de números, sin ordenar\n",
        "lista=[0.048, 0.591, 0.478, 0.166, 0.932, 0.926, 0.007, 0.551, 0.362, 0.533, 0.368, 0.437, 0.178, 0.411, 0.545, 0.787, 0.594, 0.086, 0.951, 0.772, 0.298, 0.199, 0.157,\n",
        "       0.401,0.631]\n",
        "\n",
        "n=len(lista)\n",
        "lista2=[]\n",
        "\n",
        "for k in range(0,n-1):\n",
        "\n",
        "    if lista[k]<lista[k+1]:\n",
        "      corrida=1\n",
        "      lista2.append(corrida)\n",
        "    elif lista[k]>lista[k+1]:\n",
        "      corrida=0\n",
        "      lista2.append(corrida)\n",
        "\n",
        "print(lista2)\n",
        "k=len(lista2)\n",
        "cor=0\n",
        "cor2=0\n",
        "lista3=[]\n",
        "lista4=[]\n",
        "for i in range(0,k):\n",
        "  if lista2[i]==1:\n",
        "    cor=cor+1\n",
        "    lista3.append(cor)\n",
        "\n",
        "  elif lista2[i]==0:\n",
        "    cor2=cor2+1\n",
        "    lista4.append(cor2)\n",
        "\n",
        "#print(cor)\n",
        "#print(cor2)\n",
        "\n",
        "\n",
        "corridas=[1,2,1,2,1,1,1,1,1,1,3,2,1,4,2]\n",
        "c0=len(corridas)\n",
        "print('Nuestras corridas son:')\n",
        "for m in range(0,c0):\n",
        "  print(m, '-', corridas[m])\n",
        "\n",
        "#Calculamos el valor esperado\n",
        "EC0=((2*n)-1)/3\n",
        "print('La esperaza es: ', EC0)\n",
        "\n",
        "#Calculamos la Varianza\n",
        "Var=((16*n)-29)/90\n",
        "print('La varianza es: ', Var)\n",
        "\n",
        "#Calculamos el estadístico\n",
        "Z0=(c0-EC0)/ pow(Var,0.5)\n",
        "print('El estadístico es: ', Z0)\n",
        "\n",
        "#Nuestro intervalo de aceptación es delta=0.05\n",
        "\n",
        "alfa=1.96\n",
        "if (-1*alfa)<=Z0<=alfa:\n",
        "  print('Se acepta la hipotesis')\n",
        "else:\n",
        "  print('No se acepta la hipotesis')"
      ]
    },
    {
      "cell_type": "code",
      "source": [],
      "metadata": {
        "id": "6ex-jrZyQXnW"
      },
      "execution_count": null,
      "outputs": []
    }
  ]
}