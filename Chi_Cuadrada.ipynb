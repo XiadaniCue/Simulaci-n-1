{
  "nbformat": 4,
  "nbformat_minor": 0,
  "metadata": {
    "colab": {
      "provenance": [],
      "authorship_tag": "ABX9TyMH6y5dvtmw8mssFITFQH/l",
      "include_colab_link": true
    },
    "kernelspec": {
      "name": "python3",
      "display_name": "Python 3"
    },
    "language_info": {
      "name": "python"
    }
  },
  "cells": [
    {
      "cell_type": "markdown",
      "metadata": {
        "id": "view-in-github",
        "colab_type": "text"
      },
      "source": [
        "<a href=\"https://colab.research.google.com/github/XiadaniCue/Simulaci-n-1/blob/main/Chi_Cuadrada.ipynb\" target=\"_parent\"><img src=\"https://colab.research.google.com/assets/colab-badge.svg\" alt=\"Open In Colab\"/></a>"
      ]
    },
    {
      "cell_type": "markdown",
      "source": [
        "#Prueba de Chi- Cuadrada\n",
        "\n",
        "Xiadani Paola Reyes Cuellar"
      ],
      "metadata": {
        "id": "TKPH-bUINIXC"
      }
    },
    {
      "cell_type": "code",
      "execution_count": null,
      "metadata": {
        "colab": {
          "base_uri": "https://localhost:8080/"
        },
        "id": "Erk-qNDKM0nN",
        "outputId": "84c78444-3c3e-4d9d-d506-1791703aff5b"
      },
      "outputs": [
        {
          "output_type": "stream",
          "name": "stdout",
          "text": [
            "Se aprueba la hipotesis\n",
            "4.2 < 9.488\n"
          ]
        }
      ],
      "source": [
        "import numpy as np\n",
        "\n",
        "#Esta es una prueba de frecuencia\n",
        "\n",
        "# 1. Tenemos una lista\n",
        "lista=[0.8797, 0.3884, 0.6289, 0.8750, 0.5999, 0.8589, 0.9996, 0.2415, 0.3808, 0.9606, 0.9848, 0.3469, 0.7977, 0.5844, 0.8147, 0.6431, 0.7387, 0.5613, 0.0318,\n",
        "       0.7401, 0.4557, 0.1592, 0.8536, 0.8846, 0.3410, 0.1492, 0.8681, 0.5291, 0.3188, 0.5992, 0.9170, 0.2204, 0.5991, 0.5461, 0.5739, 0.3254, 0.0856, 0.2258,\n",
        "       0.4603, 0.5027, 0.8376, 0.6235, 0.3681, 0.2088, 0.1525, 0.2006, 0.4720, 0.4272, 0.6360, 0.0954]\n",
        "\n",
        "n=len(lista)\n",
        "O1=0\n",
        "O2=0\n",
        "O3=0\n",
        "O4=0\n",
        "O5=0\n",
        "\n",
        "#2. Contamos cuantos elementos hay de cada categoria\n",
        "for i in range(0,n):\n",
        "  if lista[i] <= 0.1999:\n",
        "    O1=O1+1\n",
        "  elif lista[i]<=0.3999:\n",
        "    O2=O2+1\n",
        "  elif lista[i]<=0.5999:\n",
        "    O3=O3+1\n",
        "  elif lista[i]<=0.7999:\n",
        "    O4=O4+1\n",
        "  elif lista[i]<=0.9999:\n",
        "    O5=O5+1\n",
        "\n",
        "suma=O1+O2+O3+O4+O5\n",
        "lista1=[O1,O2,O3,O4,O5]\n",
        "x=len(lista1)\n",
        "Ei=n/5\n",
        "\n",
        "lista2=[]\n",
        "for k in range(0,x):\n",
        "  resta=((lista1[k]-Ei)**2)/Ei\n",
        "  lista2.append(resta)\n",
        "\n",
        "suma2=sum(lista2)\n",
        "critico=9.488\n",
        "\n",
        "if suma2<critico:\n",
        "  print('Se aprueba la hipotesis')\n",
        "  print(suma2,'<',critico)\n",
        "else:\n",
        "  print('No se aprueba la hipotesis')\n"
      ]
    },
    {
      "cell_type": "code",
      "source": [],
      "metadata": {
        "id": "-6zGl6Pw41rT"
      },
      "execution_count": null,
      "outputs": []
    },
    {
      "cell_type": "code",
      "source": [],
      "metadata": {
        "id": "qdj-dWTnlxf3"
      },
      "execution_count": null,
      "outputs": []
    }
  ]
}