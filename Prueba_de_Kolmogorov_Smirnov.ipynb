{
  "nbformat": 4,
  "nbformat_minor": 0,
  "metadata": {
    "colab": {
      "provenance": [],
      "authorship_tag": "ABX9TyNd+5ArWEE695bJypJnDs/k",
      "include_colab_link": true
    },
    "kernelspec": {
      "name": "python3",
      "display_name": "Python 3"
    },
    "language_info": {
      "name": "python"
    }
  },
  "cells": [
    {
      "cell_type": "markdown",
      "metadata": {
        "id": "view-in-github",
        "colab_type": "text"
      },
      "source": [
        "<a href=\"https://colab.research.google.com/github/XiadaniCue/Simulaci-n-1/blob/main/Prueba_de_Kolmogorov_Smirnov.ipynb\" target=\"_parent\"><img src=\"https://colab.research.google.com/assets/colab-badge.svg\" alt=\"Open In Colab\"/></a>"
      ]
    },
    {
      "cell_type": "markdown",
      "source": [
        "#Prueba de Kolmogorov - Smirnov\n",
        "Xiadani Paola Reyes Cuellar\n",
        "\n",
        "Clase 12/Marzo/2024"
      ],
      "metadata": {
        "id": "oFd76jgYBg-n"
      }
    },
    {
      "cell_type": "code",
      "execution_count": 1,
      "metadata": {
        "colab": {
          "base_uri": "https://localhost:8080/"
        },
        "id": "IK2GXi0L8ng6",
        "outputId": "859eecc0-d325-4deb-b760-a975172d2851"
      },
      "outputs": [
        {
          "output_type": "stream",
          "name": "stdout",
          "text": [
            "El tamaño de estra lista es de:  50\n",
            "El maximo de D+ es: 0.09879999999999997\n",
            "El maximo de D- es: 0.11879999999999996\n",
            "Nuestro D = max{ 0.09879999999999997 , 0.11879999999999996 }\n",
            "Se aprueba la hipótesis\n"
          ]
        }
      ],
      "source": [
        "import numpy as np\n",
        "\n",
        "#Esta es una prueba de frecuencia y es mucho más eficiente\n",
        "\n",
        "#Tenemos una lista de numeros en el intervalo (0,1)\n",
        "lista=[ 0.8797, 0.3884, 0.6289, 0.8750, 0.5999, 0.8589, 0.9996, 0.2415, 0.3808, 0.9606, 0.9848, 0.3469, 0.7977, 0.5844, 0.8147, 0.6431, 0.7387, 0.5613, 0.0318,\n",
        "       0.7401, 0.4557, 0.1592, 0.8536, 0.8846, 0.3410, 0.1492, 0.8681, 0.5291, 0.3188, 0.5992, 0.9170, 0.2204, 0.5991, 0.5461, 0.5739, 0.3254, 0.0856, 0.2258,\n",
        "       0.4603, 0.5027, 0.8376, 0.6235, 0.3681, 0.2088, 0.1525, 0.2006, 0.4720, 0.4272, 0.6360, 0.0954]\n",
        "\n",
        "# 1- Ordenamos nuestra lista\n",
        "ordenados=sorted(lista)\n",
        "#print(ordenados)\n",
        "\n",
        "# 2- Calculamos D+\n",
        "n=len(ordenados)\n",
        "print('El tamaño de estra lista es de: ',n)\n",
        "\n",
        "lista2=[]\n",
        "\n",
        "for i in range(1,n):\n",
        "  Dmas=(i/n)-(ordenados[i])\n",
        "  absoluto=abs(Dmas)\n",
        "  lista2.append(absoluto)\n",
        "  max=np.max(lista2)\n",
        "\n",
        "print('El maximo de D+ es:', max)\n",
        "\n",
        "# 3- Calculamos D-\n",
        "lista3=[]\n",
        "\n",
        "for i in range(1,n):\n",
        "  Dmenos=(ordenados[i])-((i-1)/n)\n",
        "  absoluto2=abs(Dmenos)\n",
        "  lista3.append(absoluto2)\n",
        "  max2=np.max(lista3)\n",
        "\n",
        "print('El maximo de D- es:', max2)\n",
        "\n",
        "print('Nuestro D = max{', max, ',', max2,'}')\n",
        "\n",
        "# 4- Comprobamos con el valor crítico\n",
        "lista4=[max,max2]\n",
        "max3=np.max(lista4)\n",
        "#print(max3)\n",
        "d=0.1246\n",
        "\n",
        "if max3<d:\n",
        "  print('Se aprueba la hipótesis')\n",
        "else:\n",
        "  print('No se aprobo la hipotesis')"
      ]
    },
    {
      "cell_type": "code",
      "source": [],
      "metadata": {
        "id": "dqnMX5u9D0om"
      },
      "execution_count": null,
      "outputs": []
    }
  ]
}