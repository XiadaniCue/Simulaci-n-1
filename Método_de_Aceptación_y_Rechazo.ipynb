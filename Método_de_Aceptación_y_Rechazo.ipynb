{
  "nbformat": 4,
  "nbformat_minor": 0,
  "metadata": {
    "colab": {
      "provenance": [],
      "authorship_tag": "ABX9TyPL4mlvE61ayPzl6IEEXZLY",
      "include_colab_link": true
    },
    "kernelspec": {
      "name": "python3",
      "display_name": "Python 3"
    },
    "language_info": {
      "name": "python"
    }
  },
  "cells": [
    {
      "cell_type": "markdown",
      "metadata": {
        "id": "view-in-github",
        "colab_type": "text"
      },
      "source": [
        "<a href=\"https://colab.research.google.com/github/XiadaniCue/Simulaci-n-1/blob/main/M%C3%A9todo_de_Aceptaci%C3%B3n_y_Rechazo.ipynb\" target=\"_parent\"><img src=\"https://colab.research.google.com/assets/colab-badge.svg\" alt=\"Open In Colab\"/></a>"
      ]
    },
    {
      "cell_type": "markdown",
      "source": [
        "#**Método de Aceptación y Rechazo**\n",
        "*Teorema Fundamemntal de Simulación*\n",
        "\n",
        "Simular $X\\sim f(x)$ es aquivalente a simular $(X,U)\\sim U(x,U):0<U< f(x)$\n",
        "\n",
        "Entonces es equivalente a reescribir f(x) como:\n",
        "$$f(x)=\\int_{0}^{f(x)} f(u) du$$\n",
        "Queremos generar $x\\sim f(x)$.\n",
        "\n",
        "Suponga que sabemos generar $g(x)$ y sabemos que:\n",
        "$$\\frac{f(y)}{c f(g)}≤ c $$ para todo y\n",
        "\n"
      ],
      "metadata": {
        "id": "nQuCP044NyX8"
      }
    },
    {
      "cell_type": "markdown",
      "source": [
        "Nuestro pseudocódigo\n",
        "\n",
        "\n",
        "1.   Generammos $Y$ con densidad $g$.\n",
        "2.   Generar un número aleatorio $U\\sim U(0,1)$\n",
        "3.   Si $U ≤ \\frac{f(y)}{g(y)}$, hacer $X=Y$. En caso contrario, regresar al paso 1\n",
        "\n"
      ],
      "metadata": {
        "id": "GHWBP-IUTPr7"
      }
    },
    {
      "cell_type": "markdown",
      "source": [
        "Generar una muestra de la variable con distribución:\n",
        "$$f(x)=20x(1-x)^3$$\n",
        "\n",
        "Para $0<x<1$\n",
        "\n",
        "Usamos a $g(x)=1$\n",
        "\n",
        "Nota que:\n",
        "$$\\frac{f(x)}{g(x)} = 20x(1-x)^3$$\n",
        "\n",
        "Calculamos el valor de C que será el máximo\n",
        "\n",
        "Con el criterio de la 1ra derivada\n",
        "$$c=\\frac{135}{64}$$"
      ],
      "metadata": {
        "id": "EaGxKkiAV5lQ"
      }
    },
    {
      "cell_type": "code",
      "execution_count": 15,
      "metadata": {
        "id": "ILIBn4YnVvEa"
      },
      "outputs": [],
      "source": [
        "import random as rnd\n",
        "import numpy as np\n",
        "import matplotlib.pyplot as plt"
      ]
    },
    {
      "cell_type": "code",
      "source": [
        "def beta(x):\n",
        "  return 20*x*((1-x)**3)"
      ],
      "metadata": {
        "id": "rt-c7fQ1koq2"
      },
      "execution_count": 16,
      "outputs": []
    },
    {
      "cell_type": "code",
      "source": [
        "def eva(n):\n",
        "  lista=[]\n",
        "  c=135/64\n",
        "  gx=1\n",
        "  for i in range(n):\n",
        "    x=rnd.random()\n",
        "    u=rnd.random()\n",
        "    m=beta(x)\n",
        "    #print(u)\n",
        "    prueba=m/(c*gx)\n",
        "    if u<=prueba:\n",
        "      lista.append(x)\n",
        "  return lista"
      ],
      "metadata": {
        "id": "-Q8NOQM6kxYw"
      },
      "execution_count": 17,
      "outputs": []
    },
    {
      "cell_type": "code",
      "source": [
        "eva(5)"
      ],
      "metadata": {
        "colab": {
          "base_uri": "https://localhost:8080/"
        },
        "id": "gqMR6wI0haGT",
        "outputId": "9b340230-6144-4d35-c650-e45db246df0d"
      },
      "execution_count": 18,
      "outputs": [
        {
          "output_type": "execute_result",
          "data": {
            "text/plain": [
              "[0.07737230509071313]"
            ]
          },
          "metadata": {},
          "execution_count": 18
        }
      ]
    },
    {
      "cell_type": "code",
      "source": [
        "B=eva(1000000)"
      ],
      "metadata": {
        "id": "MFX5LqVbmADr"
      },
      "execution_count": 19,
      "outputs": []
    },
    {
      "cell_type": "code",
      "source": [
        "#Calculamos la media\n",
        "mu=np.mean(B)\n",
        "print(mu)"
      ],
      "metadata": {
        "colab": {
          "base_uri": "https://localhost:8080/"
        },
        "id": "804WjLF0mDQS",
        "outputId": "05198d15-b160-4cb7-fa1f-e925b09e8290"
      },
      "execution_count": 20,
      "outputs": [
        {
          "output_type": "stream",
          "name": "stdout",
          "text": [
            "0.3335596532926868\n"
          ]
        }
      ]
    },
    {
      "cell_type": "code",
      "source": [
        "#calculamos la varianza\n",
        "sigma2=np.var(B)\n",
        "print(sigma2)"
      ],
      "metadata": {
        "colab": {
          "base_uri": "https://localhost:8080/"
        },
        "id": "IxYpj_p7mOqG",
        "outputId": "ffacc724-205e-4bd2-b9db-b320f81b4951"
      },
      "execution_count": 21,
      "outputs": [
        {
          "output_type": "stream",
          "name": "stdout",
          "text": [
            "0.03174787327649397\n"
          ]
        }
      ]
    },
    {
      "cell_type": "code",
      "source": [
        "#El histograma nos ordena nuestros números por categorías\n",
        "plt.hist(B,bins=200, color=\"purple\")\n",
        "plt.title(\"Función de Densidad\")"
      ],
      "metadata": {
        "colab": {
          "base_uri": "https://localhost:8080/",
          "height": 470
        },
        "id": "18iWR1PPmUeZ",
        "outputId": "185b40a9-8835-48ed-cf27-82a973395836"
      },
      "execution_count": 22,
      "outputs": [
        {
          "output_type": "execute_result",
          "data": {
            "text/plain": [
              "Text(0.5, 1.0, 'Función de Densidad')"
            ]
          },
          "metadata": {},
          "execution_count": 22
        },
        {
          "output_type": "display_data",
          "data": {
            "text/plain": [
              "<Figure size 640x480 with 1 Axes>"
            ],
            "image/png": "[encoded data removed]"
          },
          "metadata": {}
        }
      ]
    },
    {
      "cell_type": "code",
      "source": [
        "#Hacemos nuestra gráfica acumulativa\n",
        "\n",
        "def cdf(m):\n",
        "  n=len(m)\n",
        "  x=np.sort(m)\n",
        "  y=np.arange(0,n)/n\n",
        "\n",
        "  return x,y"
      ],
      "metadata": {
        "id": "3K8yCWclmarZ"
      },
      "execution_count": 23,
      "outputs": []
    },
    {
      "cell_type": "code",
      "source": [
        "X,Y=cdf(B)"
      ],
      "metadata": {
        "id": "3CpoGyAJ1FBA"
      },
      "execution_count": 24,
      "outputs": []
    },
    {
      "cell_type": "code",
      "source": [
        "plt.step(X,Y)\n",
        "plt.axhline(1, color=\"pink\")\n",
        "plt.title (\"Función Acumulativa\")"
      ],
      "metadata": {
        "id": "fpdKnhSm1MZn",
        "colab": {
          "base_uri": "https://localhost:8080/",
          "height": 470
        },
        "outputId": "a2d8a8cd-0b5e-4544-a2c0-8ecd7433e179"
      },
      "execution_count": 25,
      "outputs": [
        {
          "output_type": "execute_result",
          "data": {
            "text/plain": [
              "Text(0.5, 1.0, 'Función Acumulativa')"
            ]
          },
          "metadata": {},
          "execution_count": 25
        },
        {
          "output_type": "display_data",
          "data": {
            "text/plain": [
              "<Figure size 640x480 with 1 Axes>"
            ],
            "image/png": "[encoded data removed]"
          },
          "metadata": {}
        }
      ]
    },
    {
      "cell_type": "code",
      "source": [
        "#También podemos reescribirlo como:\n",
        "def eva2(n):\n",
        "  lista1=[]\n",
        "  c=135/64\n",
        "  gx=1\n",
        "  while len(lista1)<n:\n",
        "    x=rnd.random()\n",
        "    u=rnd.random()\n",
        "    m=beta(x)\n",
        "    #Comprobamos si la muestra debe ser aceptada\n",
        "    if u<=m/(x*gx):\n",
        "      lista1.append(x)\n",
        "  return lista1\n",
        "\n"
      ],
      "metadata": {
        "id": "Rrp481ggp_4K"
      },
      "execution_count": 26,
      "outputs": []
    },
    {
      "cell_type": "code",
      "source": [
        "b=eva2(1000000)"
      ],
      "metadata": {
        "id": "Wb0V3wMRrCsh"
      },
      "execution_count": 27,
      "outputs": []
    },
    {
      "cell_type": "code",
      "source": [
        "#El histograma nos ordena nuestros números por categorías\n",
        "plt.hist(b,bins=2000, color=\"purple\")\n",
        "plt.title(\"Función de Densidad\")"
      ],
      "metadata": {
        "colab": {
          "base_uri": "https://localhost:8080/",
          "height": 470
        },
        "id": "7O-QrzHRtZ4T",
        "outputId": "d2bcba42-51c8-44ca-a4fb-7acea75f3f36"
      },
      "execution_count": 28,
      "outputs": [
        {
          "output_type": "execute_result",
          "data": {
            "text/plain": [
              "Text(0.5, 1.0, 'Función de Densidad')"
            ]
          },
          "metadata": {},
          "execution_count": 28
        },
        {
          "output_type": "display_data",
          "data": {
            "text/plain": [
              "<Figure size 640x480 with 1 Axes>"
            ],
            "image/png": "[encoded data removed]"
          },
          "metadata": {}
        }
      ]
    },
    {
      "cell_type": "code",
      "source": [],
      "metadata": {
        "id": "KFpgmH96tkK7"
      },
      "execution_count": 14,
      "outputs": []
    }
  ]
}