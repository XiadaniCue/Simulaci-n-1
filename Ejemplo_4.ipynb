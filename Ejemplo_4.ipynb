{
  "cells": [
    {
      "cell_type": "markdown",
      "metadata": {
        "id": "view-in-github",
        "colab_type": "text"
      },
      "source": [
        "<a href=\"https://colab.research.google.com/github/XiadaniCue/Simulaci-n-1/blob/main/Ejemplo_4.ipynb\" target=\"_parent\"><img src=\"https://colab.research.google.com/assets/colab-badge.svg\" alt=\"Open In Colab\"/></a>"
      ]
    },
    {
      "cell_type": "markdown",
      "id": "c21e5530",
      "metadata": {
        "id": "c21e5530"
      },
      "source": [
        "# Ejemplo: Flecha y cojinete"
      ]
    },
    {
      "cell_type": "markdown",
      "id": "61f9bd36",
      "metadata": {
        "id": "61f9bd36"
      },
      "source": [
        "Una flecha será embonada en un cojinete como se muestra a continuación\n",
        "\n",
        "<img src=\"cojinete.png\">"
      ]
    },
    {
      "cell_type": "markdown",
      "id": "5f658ca1",
      "metadata": {
        "id": "5f658ca1"
      },
      "source": [
        "Si $x_1$ sigue una distribución normal con media $1.5$ y varianza $0.0016$, y $x_2$ esta misma distribución con media $1.48$ y varianza $0.0009$, determine:\n",
        "\n",
        "a) La probabilidad de que haya interferencia.\n",
        "\n",
        "b) El número de veces que es necesario simular el experimento, si se quiere que la probabilidad de interferencia estimada difiera de su valor verdadero en menos de $0.01$, con un nivel de seguridad del $95\\%.$"
      ]
    },
    {
      "cell_type": "markdown",
      "id": "fac00420",
      "metadata": {
        "id": "fac00420"
      },
      "source": [
        "Vamos a resolver este problema, procurando seguir la metodología vista en el curso."
      ]
    },
    {
      "cell_type": "markdown",
      "id": "ccd32164",
      "metadata": {
        "id": "ccd32164"
      },
      "source": [
        "### 1. Identifique las variables\n",
        "\n",
        "Tenemos dos: $x_1$ y $x_2$."
      ]
    },
    {
      "cell_type": "markdown",
      "id": "ae8735e5",
      "metadata": {
        "id": "ae8735e5"
      },
      "source": [
        "### 2 y 3. Determine la distribución de probabilidad y modele las variables aleatorias\n",
        "\n",
        "En el planteamiento ya se especifica que $x_1 \\sim N(1.5, 0.04)$ y que $x_1 \\sim N(1.48, 0.03)$."
      ]
    },
    {
      "cell_type": "markdown",
      "id": "b1b57a13",
      "metadata": {
        "id": "b1b57a13"
      },
      "source": [
        "### 4. Defina el modelo del sistema y los objetivos de la simulación\n",
        "\n",
        "La diferencia $x_1 - x_2$ modela adecuadamente el sistema.\n",
        "\n",
        "Si $x_2 - x_1 > 0$ el diametro de la flecha es más grande que el espacio en el cojinte y, por tanto, hay interferencia. De lo contrario, las piezas embonan sin problema.\n",
        "\n",
        "Objetivo: determinar la frecuencia con que esto ocurre, lo cual nos da una esrimación de la probabilidad de interefrencia.\n",
        "\n",
        "Una forma de implementarlo es mediante el siguiente código."
      ]
    },
    {
      "cell_type": "markdown",
      "source": [
        "#**a) Analíticamente:**\n",
        "**La probablilidada de que haga interferencia**\n",
        "\n",
        "Para este problema, cuando $x_2 - x_1 >0 $ significa que habrá interferencia entre la flecha y el cojinete\n",
        "\n",
        "Ocuparemos el siguiente teorema:\n",
        "\n",
        "Si X e Y son variables aleatorias independientes donde $X \\sim N(\\mu_1, \\sigma_1^2 )$ y $Y \\sim N (\\mu_2, \\sigma_2^2)$ entonces $X - Y \\sim N(\\mu_1 -\\mu_2, \\sigma_1^2 + \\sigma_2^2) $\n",
        "\n",
        "Tenemos que:\n",
        "$$x_1\\sim N(1.5, 0.0016)$$\n",
        "\n",
        "$$x_2\\sim N(1.48, 0.0009)$$\n",
        "\n",
        "Entonces\n",
        "$$x_2 - x_1 \\sim N(1.48 - 1.5, 0.0009 + 0.0016)$$\n",
        "\n",
        "$$z = x_2 - x_1 \\sim N(-0.02,0.0025)$$\n",
        "\n",
        "Nuestra variable z con distribución normal, nos queda:\n",
        "\n",
        "$$z\\sim N (-0.02, 0.05) $$\n",
        "\n",
        "Nos pide calcular\n",
        "$$P(z>0)$$\n",
        "$$= P\\biggl(\\frac{z-\\mu}{\\sigma}>\\frac{0-\\mu}{\\sigma}\\biggl)$$\n",
        "\n",
        "$$= P\\biggl(\\frac{z-(-0.02)}{0.05}>\\frac{0-(-0.02)}{0.05}\\biggl)$$\n",
        "$$=1 - 𝜱\\biggl( \\frac{0.02}{0.05} \\biggl)$$\n",
        "\n",
        "$$= 1 - 𝜱(0.4)$$\n",
        "$$= 1 - 0.6554 $$\n",
        "$$= 0.3446 = 34.46\\% $$\n",
        "\n",
        "Por lo tanto existe un 34.46% de probablilidada de que haya interferencia"
      ],
      "metadata": {
        "id": "Nf08tz3LcDfq"
      },
      "id": "Nf08tz3LcDfq"
    },
    {
      "cell_type": "markdown",
      "source": [
        "#**a) Por Simulación**"
      ],
      "metadata": {
        "id": "cH0h-N4FgCj3"
      },
      "id": "cH0h-N4FgCj3"
    },
    {
      "cell_type": "code",
      "execution_count": 3,
      "id": "191b1e9b",
      "metadata": {
        "id": "191b1e9b"
      },
      "outputs": [],
      "source": [
        "import numpy as np\n",
        "import random\n",
        "import matplotlib.pyplot as plt\n",
        "from scipy.stats import norm"
      ]
    },
    {
      "cell_type": "code",
      "execution_count": 4,
      "id": "e64c27d2",
      "metadata": {
        "id": "e64c27d2"
      },
      "outputs": [],
      "source": [
        "def interferencia():                #Esta función devuelve el valor 1 si hay interferencia o 0 si no la hay.\n",
        "    interf=0\n",
        "    x_1 = random.gauss(1.50,0.04)    #La funcion gauss genera un número que sigue una distribucion normal con\n",
        "    x_2 = random.gauss(1.48,0.03)   # la media y la desvicion estandar especificados.\n",
        "    if 0.0 < x_2 - x_1:\n",
        "        interf += 1\n",
        "    return interf"
      ]
    },
    {
      "cell_type": "code",
      "execution_count": 5,
      "id": "ebe51777",
      "metadata": {
        "colab": {
          "base_uri": "https://localhost:8080/"
        },
        "id": "ebe51777",
        "outputId": "7fb48ba7-d5a4-4072-b3c5-13dfe1a0836a"
      },
      "outputs": [
        {
          "output_type": "execute_result",
          "data": {
            "text/plain": [
              "0"
            ]
          },
          "metadata": {},
          "execution_count": 5
        }
      ],
      "source": [
        "interferencia()"
      ]
    },
    {
      "cell_type": "markdown",
      "id": "d6186dac",
      "metadata": {
        "id": "d6186dac"
      },
      "source": [
        "### 5. Diseñe el experimento\n",
        "\n",
        "Para estimar la probabilidad de interferencia, ejecutamos $n$ veces la función anterior y calculamos de manera acumulativa\n",
        "la probabilidad de interferencia."
      ]
    },
    {
      "cell_type": "code",
      "execution_count": 6,
      "id": "f9a766a5",
      "metadata": {
        "id": "f9a766a5"
      },
      "outputs": [],
      "source": [
        "def prob_inter(n):\n",
        "    prob = []                       # Esta funcion devuelve esta lista \"prob\", con los valores de la probabilidad\n",
        "    inter = 0                       # estimada al contar las veces que hay interferencia y dividir entre las veces que\n",
        "    for i in range(n):              # se ha reptido la observacion mientras aumenta el numero de iteraciones.\n",
        "        inter += interferencia()\n",
        "        prob.append(inter/(i+1))\n",
        "    return prob"
      ]
    },
    {
      "cell_type": "code",
      "source": [
        "prob_inter(5)"
      ],
      "metadata": {
        "colab": {
          "base_uri": "https://localhost:8080/"
        },
        "id": "Pc4pX86nPNpY",
        "outputId": "0f6da924-b38f-4a54-a067-5c1487d9db95"
      },
      "id": "Pc4pX86nPNpY",
      "execution_count": 7,
      "outputs": [
        {
          "output_type": "execute_result",
          "data": {
            "text/plain": [
              "[0.0, 0.0, 0.0, 0.25, 0.4]"
            ]
          },
          "metadata": {},
          "execution_count": 7
        }
      ]
    },
    {
      "cell_type": "code",
      "execution_count": 8,
      "id": "8099a245",
      "metadata": {
        "id": "8099a245"
      },
      "outputs": [],
      "source": [
        "X = prob_inter(500)       # Asignamos valores a n y realizamos el experimento"
      ]
    },
    {
      "cell_type": "code",
      "execution_count": 9,
      "id": "c5a5a3c2",
      "metadata": {
        "id": "c5a5a3c2",
        "colab": {
          "base_uri": "https://localhost:8080/",
          "height": 256
        },
        "outputId": "19e95e81-789a-4046-92b1-f4f616bed0f6"
      },
      "outputs": [
        {
          "output_type": "execute_result",
          "data": {
            "text/plain": [
              "[<matplotlib.lines.Line2D at 0x7fa8b22f0c10>]"
            ]
          },
          "metadata": {},
          "execution_count": 9
        },
        {
          "output_type": "display_data",
          "data": {
            "text/plain": [
              "<Figure size 640x480 with 1 Axes>"
            ],
            "image/png": "[encoded data removed]"
          },
          "metadata": {}
        }
      ],
      "source": [
        "plt.plot(X)                         # La gráfica muestra que la convergencia está garantizada con 500 iteraciones\n",
        "                                    # Sin embargo, diferentes ejecuciones darán resultados distintos"
      ]
    },
    {
      "cell_type": "code",
      "execution_count": 10,
      "id": "4ac4c689",
      "metadata": {
        "id": "4ac4c689",
        "colab": {
          "base_uri": "https://localhost:8080/"
        },
        "outputId": "aacca750-582f-40f3-851a-90d0c4227905"
      },
      "outputs": [
        {
          "output_type": "stream",
          "name": "stdout",
          "text": [
            "0.37855288433605216 0.05080437161973476\n"
          ]
        }
      ],
      "source": [
        "print(np.mean(X), np.std(X))"
      ]
    },
    {
      "cell_type": "markdown",
      "id": "34727279",
      "metadata": {
        "id": "34727279"
      },
      "source": [
        "### 6. Repita el experimento $n$ veces\n",
        "\n",
        "Una forma de hacerlo es mediante el siguiente codigo."
      ]
    },
    {
      "cell_type": "code",
      "execution_count": 11,
      "id": "908f1884",
      "metadata": {
        "id": "908f1884"
      },
      "outputs": [],
      "source": [
        "def modelo(n):\n",
        "    lista=[]\n",
        "    for i in range(n):\n",
        "        s = prob_inter(500)\n",
        "        lista.append(np.mean(s))\n",
        "    return lista"
      ]
    },
    {
      "cell_type": "code",
      "execution_count": 12,
      "id": "34868564",
      "metadata": {
        "id": "34868564"
      },
      "outputs": [],
      "source": [
        "Y=modelo(120)"
      ]
    },
    {
      "cell_type": "code",
      "execution_count": 13,
      "id": "8a95845e",
      "metadata": {
        "id": "8a95845e",
        "colab": {
          "base_uri": "https://localhost:8080/",
          "height": 223
        },
        "outputId": "b2d3c41b-20f6-4661-b1dc-44158f48fc46"
      },
      "outputs": [
        {
          "output_type": "display_data",
          "data": {
            "text/plain": [
              "<Figure size 640x480 with 1 Axes>"
            ],
            "image/png": "[encoded data removed]"
          },
          "metadata": {}
        }
      ],
      "source": [
        "plt.hist(Y)\n",
        "plt.show()"
      ]
    },
    {
      "cell_type": "code",
      "execution_count": 14,
      "id": "e892a16c",
      "metadata": {
        "id": "e892a16c",
        "colab": {
          "base_uri": "https://localhost:8080/"
        },
        "outputId": "4e4c37d2-b750-4037-dc81-b05329544e8f"
      },
      "outputs": [
        {
          "output_type": "stream",
          "name": "stdout",
          "text": [
            "0.34424840764913905 0.033531098456570214\n"
          ]
        }
      ],
      "source": [
        "print(np.mean(Y), np.std(Y))"
      ]
    },
    {
      "cell_type": "code",
      "execution_count": 15,
      "id": "23d0b48e",
      "metadata": {
        "id": "23d0b48e",
        "colab": {
          "base_uri": "https://localhost:8080/"
        },
        "outputId": "50737524-1c0d-4964-af3d-9681d9c8a084"
      },
      "outputs": [
        {
          "output_type": "execute_result",
          "data": {
            "text/plain": [
              "0.34424840764913905"
            ]
          },
          "metadata": {},
          "execution_count": 15
        }
      ],
      "source": [
        "np.mean(Y)"
      ]
    },
    {
      "cell_type": "markdown",
      "source": [
        "#**b) Analíticamente**\n",
        "**El número de veces que es necesario simular el experimento, si se quiere que la probabilidad de interferencia estimada difiera de su valor verdadero en menos de  0.01 , con un nivel de seguridad del  95%.**\n",
        "\n",
        "Para calcular el número de veces que es necesario simular el experimento, esta dado por:\n",
        "$$ N > \\Bigg( \\frac{2 \\sigma z}{\\epsilon} \\Bigg) ^2 $$\n",
        "\n",
        "Tenemos:\n",
        "$$N> \\biggl(\\frac{2(0.05)(1.96)}{0.01} \\biggl)^2$$\n",
        "\n",
        "$$N>(19.6)^2$$\n",
        "$$N>348.16$$\n",
        "\n",
        "Ahora para calcular nuestros intervalo de confianza. Esta dado por:\n",
        "$$CI= \\bar{x} \\pm z \\frac{s}{\\sqrt{n}} $$\n",
        "Con\n",
        "$$\\bar{x} = media~muestral$$\n",
        "$$z= valor~de~nivel~de~confianza$$\n",
        "$$s= desviación~estándar $$\n",
        "$$n= tamaño~de~la~muestra$$\n",
        "\n",
        "Nos queda entonces\n",
        "$$\\bar{x}-z\\cdot \\frac{s}{\\sqrt{n}} < \\mu < \\bar{x}+z\\cdot \\frac{s}{\\sqrt{n}}$$\n",
        "\n",
        "$$(-0.02)-1.96\\cdot \\frac{0.05}{\\sqrt{350}} < \\mu < (-0.02)+1.96\\cdot \\frac{0.05}{\\sqrt{350}}$$\n",
        "\n",
        "$$ −0.0252 < \\mu < −0.0147 $$\n",
        "\n",
        "Nuestro intervalo nos queda (-0.0252, -0.0147)"
      ],
      "metadata": {
        "id": "Z5p38udNPy3v"
      },
      "id": "Z5p38udNPy3v"
    },
    {
      "cell_type": "markdown",
      "id": "e5dc2362",
      "metadata": {
        "id": "e5dc2362"
      },
      "source": [
        "### Paso 7. Hallamos el intervalo de confianza.\n",
        "\n",
        "$$\\bar{x}-z_{\\alpha/2} \\cdot \\frac{s}{\\sqrt{n}} < \\mu < \\bar{x}+z_{\\alpha/2}\\cdot \\frac{s}{\\sqrt{n}}$$"
      ]
    },
    {
      "cell_type": "code",
      "execution_count": 16,
      "id": "b29c74e6",
      "metadata": {
        "id": "b29c74e6",
        "colab": {
          "base_uri": "https://localhost:8080/"
        },
        "outputId": "3232f744-7d36-4e94-c4f8-1d33bf6dcff4"
      },
      "outputs": [
        {
          "output_type": "execute_result",
          "data": {
            "text/plain": [
              "(0.3349540613462234, 0.3535427539520547)"
            ]
          },
          "metadata": {},
          "execution_count": 16
        }
      ],
      "source": [
        "np.mean(Y) - 1.96*np.std(Y)/np.sqrt(50), np.mean(Y) + 1.96*np.std(Y)/np.sqrt(50)"
      ]
    },
    {
      "cell_type": "markdown",
      "id": "112c0954",
      "metadata": {
        "id": "112c0954"
      },
      "source": [
        "### Para determinar el número de simulaciones"
      ]
    },
    {
      "cell_type": "markdown",
      "id": "0a1a63e7",
      "metadata": {
        "id": "0a1a63e7"
      },
      "source": [
        "$$ N > \\Bigg( \\frac{2 \\sigma z_{\\alpha/2}}{\\epsilon} \\Bigg) ^2 $$"
      ]
    },
    {
      "cell_type": "code",
      "execution_count": 17,
      "id": "1478d745",
      "metadata": {
        "id": "1478d745"
      },
      "outputs": [],
      "source": [
        "N = (2*np.std(X)*1.96/0.01)**2"
      ]
    },
    {
      "cell_type": "code",
      "execution_count": 21,
      "id": "fa6ae0ce",
      "metadata": {
        "id": "fa6ae0ce",
        "colab": {
          "base_uri": "https://localhost:8080/"
        },
        "outputId": "c6428e70-a4bc-4574-c3f1-555d438eec7f"
      },
      "outputs": [
        {
          "output_type": "stream",
          "name": "stdout",
          "text": [
            "396.61971877109374\n"
          ]
        }
      ],
      "source": [
        "print(N)"
      ]
    },
    {
      "cell_type": "markdown",
      "id": "a6d1c695",
      "metadata": {
        "id": "a6d1c695"
      },
      "source": [
        "### Podemos comparar con la sulución analítica del problema.\n",
        "\n",
        "Para ello usamos la teoría sobre la suma de variables con distribución normal."
      ]
    },
    {
      "cell_type": "code",
      "execution_count": 19,
      "id": "7284bee0",
      "metadata": {
        "id": "7284bee0",
        "colab": {
          "base_uri": "https://localhost:8080/"
        },
        "outputId": "eec06c0b-38da-4675-9f41-2d7e06f6977e"
      },
      "outputs": [
        {
          "output_type": "execute_result",
          "data": {
            "text/plain": [
              "0.3445782583896758"
            ]
          },
          "metadata": {},
          "execution_count": 19
        }
      ],
      "source": [
        "norm.cdf(-0.04, -0.02, 0.05)"
      ]
    },
    {
      "cell_type": "code",
      "execution_count": 20,
      "id": "a1a842a2",
      "metadata": {
        "id": "a1a842a2",
        "colab": {
          "base_uri": "https://localhost:8080/"
        },
        "outputId": "cbec1fd5-a8d0-42cb-858d-07469c2bcbb7"
      },
      "outputs": [
        {
          "output_type": "execute_result",
          "data": {
            "text/plain": [
              "0.00032985074053676344"
            ]
          },
          "metadata": {},
          "execution_count": 20
        }
      ],
      "source": [
        "norm.cdf(-0.04, -0.02, 0.05)-np.mean(Y)"
      ]
    }
  ],
  "metadata": {
    "kernelspec": {
      "display_name": "Python 3 (ipykernel)",
      "language": "python",
      "name": "python3"
    },
    "language_info": {
      "codemirror_mode": {
        "name": "ipython",
        "version": 3
      },
      "file_extension": ".py",
      "mimetype": "text/x-python",
      "name": "python",
      "nbconvert_exporter": "python",
      "pygments_lexer": "ipython3",
      "version": "3.7.3"
    },
    "colab": {
      "provenance": [],
      "include_colab_link": true
    }
  },
  "nbformat": 4,
  "nbformat_minor": 5
}